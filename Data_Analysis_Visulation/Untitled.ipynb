{
 "cells": [
  {
   "cell_type": "code",
   "execution_count": 187,
   "metadata": {
    "collapsed": true
   },
   "outputs": [],
   "source": [
    "## Loading libraries\n",
    "import pandas as pd    ## for data manipulation\n",
    "import numpy as np     ## for array and matrices operations\n",
    "import bokeh   ## For interactive visualizations\n",
    "import matplotlib.pyplot as plt \n",
    "import os\n",
    "import geopandas as gpd                 # For plotting maps\n",
    "from bokeh.plotting import figure, show  # For interactive visualization\n",
    "from bokeh.io import output_notebook"
   ]
  },
  {
   "cell_type": "code",
   "execution_count": 188,
   "metadata": {
    "collapsed": true
   },
   "outputs": [],
   "source": [
    "data = pd.read_csv('india_2011.csv')"
   ]
  },
  {
   "cell_type": "code",
   "execution_count": 189,
   "metadata": {},
   "outputs": [
    {
     "data": {
      "text/html": [
       "<div>\n",
       "<style scoped>\n",
       "    .dataframe tbody tr th:only-of-type {\n",
       "        vertical-align: middle;\n",
       "    }\n",
       "\n",
       "    .dataframe tbody tr th {\n",
       "        vertical-align: top;\n",
       "    }\n",
       "\n",
       "    .dataframe thead th {\n",
       "        text-align: right;\n",
       "    }\n",
       "</style>\n",
       "<table border=\"1\" class=\"dataframe\">\n",
       "  <thead>\n",
       "    <tr style=\"text-align: right;\">\n",
       "      <th></th>\n",
       "      <th>District code</th>\n",
       "      <th>State name</th>\n",
       "      <th>District name</th>\n",
       "      <th>Population</th>\n",
       "      <th>Male</th>\n",
       "      <th>Female</th>\n",
       "      <th>Literate</th>\n",
       "      <th>Male_Literate</th>\n",
       "      <th>Female_Literate</th>\n",
       "      <th>SC</th>\n",
       "      <th>...</th>\n",
       "      <th>Power_Parity_Rs_90000_150000</th>\n",
       "      <th>Power_Parity_Rs_45000_150000</th>\n",
       "      <th>Power_Parity_Rs_150000_240000</th>\n",
       "      <th>Power_Parity_Rs_240000_330000</th>\n",
       "      <th>Power_Parity_Rs_150000_330000</th>\n",
       "      <th>Power_Parity_Rs_330000_425000</th>\n",
       "      <th>Power_Parity_Rs_425000_545000</th>\n",
       "      <th>Power_Parity_Rs_330000_545000</th>\n",
       "      <th>Power_Parity_Above_Rs_545000</th>\n",
       "      <th>Total_Power_Parity</th>\n",
       "    </tr>\n",
       "  </thead>\n",
       "  <tbody>\n",
       "    <tr>\n",
       "      <th>0</th>\n",
       "      <td>1</td>\n",
       "      <td>JAMMU &amp; KASHMIR</td>\n",
       "      <td>Kupwara</td>\n",
       "      <td>870354</td>\n",
       "      <td>474190</td>\n",
       "      <td>396164</td>\n",
       "      <td>439654</td>\n",
       "      <td>282823</td>\n",
       "      <td>156831</td>\n",
       "      <td>1048</td>\n",
       "      <td>...</td>\n",
       "      <td>94</td>\n",
       "      <td>588</td>\n",
       "      <td>71</td>\n",
       "      <td>101</td>\n",
       "      <td>172</td>\n",
       "      <td>74</td>\n",
       "      <td>10</td>\n",
       "      <td>84</td>\n",
       "      <td>15</td>\n",
       "      <td>1119</td>\n",
       "    </tr>\n",
       "    <tr>\n",
       "      <th>1</th>\n",
       "      <td>2</td>\n",
       "      <td>JAMMU &amp; KASHMIR</td>\n",
       "      <td>Badgam</td>\n",
       "      <td>753745</td>\n",
       "      <td>398041</td>\n",
       "      <td>355704</td>\n",
       "      <td>335649</td>\n",
       "      <td>207741</td>\n",
       "      <td>127908</td>\n",
       "      <td>368</td>\n",
       "      <td>...</td>\n",
       "      <td>126</td>\n",
       "      <td>562</td>\n",
       "      <td>72</td>\n",
       "      <td>89</td>\n",
       "      <td>161</td>\n",
       "      <td>96</td>\n",
       "      <td>28</td>\n",
       "      <td>124</td>\n",
       "      <td>18</td>\n",
       "      <td>1066</td>\n",
       "    </tr>\n",
       "    <tr>\n",
       "      <th>2</th>\n",
       "      <td>3</td>\n",
       "      <td>JAMMU &amp; KASHMIR</td>\n",
       "      <td>Leh(Ladakh)</td>\n",
       "      <td>133487</td>\n",
       "      <td>78971</td>\n",
       "      <td>54516</td>\n",
       "      <td>93770</td>\n",
       "      <td>62834</td>\n",
       "      <td>30936</td>\n",
       "      <td>488</td>\n",
       "      <td>...</td>\n",
       "      <td>46</td>\n",
       "      <td>122</td>\n",
       "      <td>15</td>\n",
       "      <td>22</td>\n",
       "      <td>37</td>\n",
       "      <td>20</td>\n",
       "      <td>14</td>\n",
       "      <td>34</td>\n",
       "      <td>17</td>\n",
       "      <td>242</td>\n",
       "    </tr>\n",
       "    <tr>\n",
       "      <th>3</th>\n",
       "      <td>4</td>\n",
       "      <td>JAMMU &amp; KASHMIR</td>\n",
       "      <td>Kargil</td>\n",
       "      <td>140802</td>\n",
       "      <td>77785</td>\n",
       "      <td>63017</td>\n",
       "      <td>86236</td>\n",
       "      <td>56301</td>\n",
       "      <td>29935</td>\n",
       "      <td>18</td>\n",
       "      <td>...</td>\n",
       "      <td>27</td>\n",
       "      <td>114</td>\n",
       "      <td>12</td>\n",
       "      <td>18</td>\n",
       "      <td>30</td>\n",
       "      <td>19</td>\n",
       "      <td>3</td>\n",
       "      <td>22</td>\n",
       "      <td>7</td>\n",
       "      <td>214</td>\n",
       "    </tr>\n",
       "    <tr>\n",
       "      <th>4</th>\n",
       "      <td>5</td>\n",
       "      <td>JAMMU &amp; KASHMIR</td>\n",
       "      <td>Punch</td>\n",
       "      <td>476835</td>\n",
       "      <td>251899</td>\n",
       "      <td>224936</td>\n",
       "      <td>261724</td>\n",
       "      <td>163333</td>\n",
       "      <td>98391</td>\n",
       "      <td>556</td>\n",
       "      <td>...</td>\n",
       "      <td>78</td>\n",
       "      <td>346</td>\n",
       "      <td>35</td>\n",
       "      <td>50</td>\n",
       "      <td>85</td>\n",
       "      <td>59</td>\n",
       "      <td>8</td>\n",
       "      <td>67</td>\n",
       "      <td>12</td>\n",
       "      <td>629</td>\n",
       "    </tr>\n",
       "  </tbody>\n",
       "</table>\n",
       "<p>5 rows × 118 columns</p>\n",
       "</div>"
      ],
      "text/plain": [
       "   District code       State name District name  Population    Male  Female  \\\n",
       "0              1  JAMMU & KASHMIR       Kupwara      870354  474190  396164   \n",
       "1              2  JAMMU & KASHMIR        Badgam      753745  398041  355704   \n",
       "2              3  JAMMU & KASHMIR   Leh(Ladakh)      133487   78971   54516   \n",
       "3              4  JAMMU & KASHMIR        Kargil      140802   77785   63017   \n",
       "4              5  JAMMU & KASHMIR         Punch      476835  251899  224936   \n",
       "\n",
       "   Literate  Male_Literate  Female_Literate    SC         ...          \\\n",
       "0    439654         282823           156831  1048         ...           \n",
       "1    335649         207741           127908   368         ...           \n",
       "2     93770          62834            30936   488         ...           \n",
       "3     86236          56301            29935    18         ...           \n",
       "4    261724         163333            98391   556         ...           \n",
       "\n",
       "   Power_Parity_Rs_90000_150000  Power_Parity_Rs_45000_150000  \\\n",
       "0                            94                           588   \n",
       "1                           126                           562   \n",
       "2                            46                           122   \n",
       "3                            27                           114   \n",
       "4                            78                           346   \n",
       "\n",
       "   Power_Parity_Rs_150000_240000  Power_Parity_Rs_240000_330000  \\\n",
       "0                             71                            101   \n",
       "1                             72                             89   \n",
       "2                             15                             22   \n",
       "3                             12                             18   \n",
       "4                             35                             50   \n",
       "\n",
       "   Power_Parity_Rs_150000_330000  Power_Parity_Rs_330000_425000  \\\n",
       "0                            172                             74   \n",
       "1                            161                             96   \n",
       "2                             37                             20   \n",
       "3                             30                             19   \n",
       "4                             85                             59   \n",
       "\n",
       "   Power_Parity_Rs_425000_545000  Power_Parity_Rs_330000_545000  \\\n",
       "0                             10                             84   \n",
       "1                             28                            124   \n",
       "2                             14                             34   \n",
       "3                              3                             22   \n",
       "4                              8                             67   \n",
       "\n",
       "   Power_Parity_Above_Rs_545000  Total_Power_Parity  \n",
       "0                            15                1119  \n",
       "1                            18                1066  \n",
       "2                            17                 242  \n",
       "3                             7                 214  \n",
       "4                            12                 629  \n",
       "\n",
       "[5 rows x 118 columns]"
      ]
     },
     "execution_count": 189,
     "metadata": {},
     "output_type": "execute_result"
    }
   ],
   "source": [
    "data.head()"
   ]
  },
  {
   "cell_type": "code",
   "execution_count": 190,
   "metadata": {},
   "outputs": [
    {
     "name": "stdout",
     "output_type": "stream",
     "text": [
      "District code: int64\n",
      "\n",
      "State name: object\n",
      "\n",
      "District name: object\n",
      "\n",
      "Population: int64\n",
      "\n",
      "Male: int64\n",
      "\n",
      "Female: int64\n",
      "\n",
      "Literate: int64\n",
      "\n",
      "Male_Literate: int64\n",
      "\n",
      "Female_Literate: int64\n",
      "\n",
      "SC: int64\n",
      "\n",
      "Male_SC: int64\n",
      "\n",
      "Female_SC: int64\n",
      "\n",
      "ST: int64\n",
      "\n",
      "Male_ST: int64\n",
      "\n",
      "Female_ST: int64\n",
      "\n",
      "Workers: int64\n",
      "\n",
      "Male_Workers: int64\n",
      "\n",
      "Female_Workers: int64\n",
      "\n",
      "Main_Workers: int64\n",
      "\n",
      "Marginal_Workers: int64\n",
      "\n",
      "Non_Workers: int64\n",
      "\n",
      "Cultivator_Workers: int64\n",
      "\n",
      "Agricultural_Workers: int64\n",
      "\n",
      "Household_Workers: int64\n",
      "\n",
      "Other_Workers: int64\n",
      "\n",
      "Hindus: int64\n",
      "\n",
      "Muslims: int64\n",
      "\n",
      "Christians: int64\n",
      "\n",
      "Sikhs: int64\n",
      "\n",
      "Buddhists: int64\n",
      "\n",
      "Jains: int64\n",
      "\n",
      "Others_Religions: int64\n",
      "\n",
      "Religion_Not_Stated: int64\n",
      "\n",
      "LPG_or_PNG_Households: int64\n",
      "\n",
      "Housholds_with_Electric_Lighting: int64\n",
      "\n",
      "Households_with_Internet: int64\n",
      "\n",
      "Households_with_Computer: int64\n",
      "\n",
      "Rural_Households: int64\n",
      "\n",
      "Urban_Households: int64\n",
      "\n",
      "Households: int64\n",
      "\n",
      "Below_Primary_Education: int64\n",
      "\n",
      "Primary_Education: int64\n",
      "\n",
      "Middle_Education: int64\n",
      "\n",
      "Secondary_Education: int64\n",
      "\n",
      "Higher_Education: int64\n",
      "\n",
      "Graduate_Education: int64\n",
      "\n",
      "Other_Education: int64\n",
      "\n",
      "Literate_Education: int64\n",
      "\n",
      "Illiterate_Education: int64\n",
      "\n",
      "Total_Education: int64\n",
      "\n",
      "Age_Group_0_29: int64\n",
      "\n",
      "Age_Group_30_49: int64\n",
      "\n",
      "Age_Group_50: int64\n",
      "\n",
      "Age not stated: int64\n",
      "\n",
      "Households_with_Bicycle: int64\n",
      "\n",
      "Households_with_Car_Jeep_Van: int64\n",
      "\n",
      "Households_with_Radio_Transistor: int64\n",
      "\n",
      "Households_with_Scooter_Motorcycle_Moped: int64\n",
      "\n",
      "Households_with_Telephone_Mobile_Phone_Landline_only: int64\n",
      "\n",
      "Households_with_Telephone_Mobile_Phone_Mobile_only: int64\n",
      "\n",
      "Households_with_TV_Computer_Laptop_Telephone_mobile_phone_and_Scooter_Car: int64\n",
      "\n",
      "Households_with_Television: int64\n",
      "\n",
      "Households_with_Telephone_Mobile_Phone: int64\n",
      "\n",
      "Households_with_Telephone_Mobile_Phone_Both: int64\n",
      "\n",
      "Condition_of_occupied_census_houses_Dilapidated_Households: int64\n",
      "\n",
      "Households_with_separate_kitchen_Cooking_inside_house: int64\n",
      "\n",
      "Having_bathing_facility_Total_Households: int64\n",
      "\n",
      "Having_latrine_facility_within_the_premises_Total_Households: int64\n",
      "\n",
      "Ownership_Owned_Households: int64\n",
      "\n",
      "Ownership_Rented_Households: int64\n",
      "\n",
      "Type_of_bathing_facility_Enclosure_without_roof_Households: int64\n",
      "\n",
      "Type_of_fuel_used_for_cooking_Any_other_Households: int64\n",
      "\n",
      "Type_of_latrine_facility_Pit_latrine_Households: int64\n",
      "\n",
      "Type_of_latrine_facility_Other_latrine_Households: int64\n",
      "\n",
      "Type_of_latrine_facility_Night_soil_disposed_into_open_drain_Households: int64\n",
      "\n",
      "Type_of_latrine_facility_Flush_pour_flush_latrine_connected_to_other_system_Households: int64\n",
      "\n",
      "Not_having_bathing_facility_within_the_premises_Total_Households: int64\n",
      "\n",
      "Not_having_latrine_facility_within_the_premises_Alternative_source_Open_Households: int64\n",
      "\n",
      "Main_source_of_drinking_water_Un_covered_well_Households: int64\n",
      "\n",
      "Main_source_of_drinking_water_Handpump_Tubewell_Borewell_Households: int64\n",
      "\n",
      "Main_source_of_drinking_water_Spring_Households: int64\n",
      "\n",
      "Main_source_of_drinking_water_River_Canal_Households: int64\n",
      "\n",
      "Main_source_of_drinking_water_Other_sources_Households: int64\n",
      "\n",
      "Main_source_of_drinking_water_Other_sources_Spring_River_Canal_Tank_Pond_Lake_Other_sources__Households: int64\n",
      "\n",
      "Location_of_drinking_water_source_Near_the_premises_Households: int64\n",
      "\n",
      "Location_of_drinking_water_source_Within_the_premises_Households: int64\n",
      "\n",
      "Main_source_of_drinking_water_Tank_Pond_Lake_Households: int64\n",
      "\n",
      "Main_source_of_drinking_water_Tapwater_Households: int64\n",
      "\n",
      "Main_source_of_drinking_water_Tubewell_Borehole_Households: int64\n",
      "\n",
      "Household_size_1_person_Households: int64\n",
      "\n",
      "Household_size_2_persons_Households: int64\n",
      "\n",
      "Household_size_1_to_2_persons: int64\n",
      "\n",
      "Household_size_3_persons_Households: int64\n",
      "\n",
      "Household_size_3_to_5_persons_Households: int64\n",
      "\n",
      "Household_size_4_persons_Households: int64\n",
      "\n",
      "Household_size_5_persons_Households: int64\n",
      "\n",
      "Household_size_6_8_persons_Households: int64\n",
      "\n",
      "Household_size_9_persons_and_above_Households: int64\n",
      "\n",
      "Location_of_drinking_water_source_Away_Households: int64\n",
      "\n",
      "Married_couples_1_Households: int64\n",
      "\n",
      "Married_couples_2_Households: int64\n",
      "\n",
      "Married_couples_3_Households: int64\n",
      "\n",
      "Married_couples_3_or_more_Households: int64\n",
      "\n",
      "Married_couples_4_Households: int64\n",
      "\n",
      "Married_couples_5__Households: int64\n",
      "\n",
      "Married_couples_None_Households: int64\n",
      "\n",
      "Power_Parity_Less_than_Rs_45000: int64\n",
      "\n",
      "Power_Parity_Rs_45000_90000: int64\n",
      "\n",
      "Power_Parity_Rs_90000_150000: int64\n",
      "\n",
      "Power_Parity_Rs_45000_150000: int64\n",
      "\n",
      "Power_Parity_Rs_150000_240000: int64\n",
      "\n",
      "Power_Parity_Rs_240000_330000: int64\n",
      "\n",
      "Power_Parity_Rs_150000_330000: int64\n",
      "\n",
      "Power_Parity_Rs_330000_425000: int64\n",
      "\n",
      "Power_Parity_Rs_425000_545000: int64\n",
      "\n",
      "Power_Parity_Rs_330000_545000: int64\n",
      "\n",
      "Power_Parity_Above_Rs_545000: int64\n",
      "\n",
      "Total_Power_Parity: int64\n",
      "\n"
     ]
    }
   ],
   "source": [
    "# understanding the data \n",
    "\n",
    "for i in data.columns:\n",
    "    print('{}: {}\\n'.format(i, data[i].dtype))"
   ]
  },
  {
   "cell_type": "code",
   "execution_count": 191,
   "metadata": {
    "collapsed": true
   },
   "outputs": [],
   "source": [
    "# list of all the categorical and numerical variables\n",
    "cat_var = [i for i in data.columns if data[i].dtype==object]\n"
   ]
  },
  {
   "cell_type": "code",
   "execution_count": 192,
   "metadata": {},
   "outputs": [
    {
     "data": {
      "text/plain": [
       "['State name', 'District name']"
      ]
     },
     "execution_count": 192,
     "metadata": {},
     "output_type": "execute_result"
    }
   ],
   "source": [
    "cat_var"
   ]
  },
  {
   "cell_type": "code",
   "execution_count": 193,
   "metadata": {
    "collapsed": true
   },
   "outputs": [],
   "source": [
    "data[cat_var[0]] = data[cat_var[0]].astype('category')\n",
    "data[cat_var[1]] = data[cat_var[1]].astype('category')"
   ]
  },
  {
   "cell_type": "markdown",
   "metadata": {},
   "source": [
    "Calculating the literacy rate statewise"
   ]
  },
  {
   "cell_type": "code",
   "execution_count": 194,
   "metadata": {
    "collapsed": true
   },
   "outputs": [],
   "source": [
    "# calculate total number of literate people statewise\n",
    "lit_pop = data.groupby('State name')['Literate'].agg('sum')\n",
    "tot_pop = data.groupby('State name')['Population'].agg('sum')"
   ]
  },
  {
   "cell_type": "code",
   "execution_count": 195,
   "metadata": {
    "collapsed": true
   },
   "outputs": [],
   "source": [
    "lit_rate = (lit_pop/tot_pop)*100"
   ]
  },
  {
   "cell_type": "code",
   "execution_count": 196,
   "metadata": {},
   "outputs": [
    {
     "data": {
      "text/plain": [
       "State name\n",
       "BIHAR                50.436916\n",
       "ARUNACHAL PRADESH    55.358102\n",
       "JHARKHAND            55.559581\n",
       "RAJASTHAN            55.836841\n",
       "JAMMU & KASHMIR      56.351669\n",
       "UTTAR PRADESH        57.252497\n",
       "MADHYA PRADESH       59.001861\n",
       "ANDHRA PRADESH       59.773345\n",
       "MEGHALAYA            60.164199\n",
       "CHHATTISGARH         60.206705\n",
       "dtype: float64"
      ]
     },
     "execution_count": 196,
     "metadata": {},
     "output_type": "execute_result"
    }
   ],
   "source": [
    "## Printing top 10 states with lowest literacy rate\n",
    "\n",
    "lit_rate.sort_values().head(10)"
   ]
  },
  {
   "cell_type": "code",
   "execution_count": 197,
   "metadata": {},
   "outputs": [
    {
     "data": {
      "text/plain": [
       "District code                                                 640\n",
       "State name                                                    640\n",
       "District name                                                 640\n",
       "Population                                                    640\n",
       "Male                                                          640\n",
       "Female                                                        640\n",
       "Literate                                                      640\n",
       "Male_Literate                                                 640\n",
       "Female_Literate                                               640\n",
       "SC                                                            640\n",
       "Male_SC                                                       640\n",
       "Female_SC                                                     640\n",
       "ST                                                            640\n",
       "Male_ST                                                       640\n",
       "Female_ST                                                     640\n",
       "Workers                                                       640\n",
       "Male_Workers                                                  640\n",
       "Female_Workers                                                640\n",
       "Main_Workers                                                  640\n",
       "Marginal_Workers                                              640\n",
       "Non_Workers                                                   640\n",
       "Cultivator_Workers                                            640\n",
       "Agricultural_Workers                                          640\n",
       "Household_Workers                                             640\n",
       "Other_Workers                                                 640\n",
       "Hindus                                                        640\n",
       "Muslims                                                       640\n",
       "Christians                                                    640\n",
       "Sikhs                                                         640\n",
       "Buddhists                                                     640\n",
       "                                                             ... \n",
       "Main_source_of_drinking_water_Tubewell_Borehole_Households    640\n",
       "Household_size_1_person_Households                            640\n",
       "Household_size_2_persons_Households                           640\n",
       "Household_size_1_to_2_persons                                 640\n",
       "Household_size_3_persons_Households                           640\n",
       "Household_size_3_to_5_persons_Households                      640\n",
       "Household_size_4_persons_Households                           640\n",
       "Household_size_5_persons_Households                           640\n",
       "Household_size_6_8_persons_Households                         640\n",
       "Household_size_9_persons_and_above_Households                 640\n",
       "Location_of_drinking_water_source_Away_Households             640\n",
       "Married_couples_1_Households                                  640\n",
       "Married_couples_2_Households                                  640\n",
       "Married_couples_3_Households                                  640\n",
       "Married_couples_3_or_more_Households                          640\n",
       "Married_couples_4_Households                                  640\n",
       "Married_couples_5__Households                                 640\n",
       "Married_couples_None_Households                               640\n",
       "Power_Parity_Less_than_Rs_45000                               640\n",
       "Power_Parity_Rs_45000_90000                                   640\n",
       "Power_Parity_Rs_90000_150000                                  640\n",
       "Power_Parity_Rs_45000_150000                                  640\n",
       "Power_Parity_Rs_150000_240000                                 640\n",
       "Power_Parity_Rs_240000_330000                                 640\n",
       "Power_Parity_Rs_150000_330000                                 640\n",
       "Power_Parity_Rs_330000_425000                                 640\n",
       "Power_Parity_Rs_425000_545000                                 640\n",
       "Power_Parity_Rs_330000_545000                                 640\n",
       "Power_Parity_Above_Rs_545000                                  640\n",
       "Total_Power_Parity                                            640\n",
       "Length: 118, dtype: int64"
      ]
     },
     "execution_count": 197,
     "metadata": {},
     "output_type": "execute_result"
    }
   ],
   "source": [
    "data.count()"
   ]
  },
  {
   "cell_type": "code",
   "execution_count": 198,
   "metadata": {
    "collapsed": true
   },
   "outputs": [],
   "source": [
    "data2 = data[['Households_with_Telephone_Mobile_Phone_Mobile_only','Agricultural_Workers']]"
   ]
  },
  {
   "cell_type": "code",
   "execution_count": 199,
   "metadata": {},
   "outputs": [
    {
     "data": {
      "text/html": [
       "<div>\n",
       "<style scoped>\n",
       "    .dataframe tbody tr th:only-of-type {\n",
       "        vertical-align: middle;\n",
       "    }\n",
       "\n",
       "    .dataframe tbody tr th {\n",
       "        vertical-align: top;\n",
       "    }\n",
       "\n",
       "    .dataframe thead th {\n",
       "        text-align: right;\n",
       "    }\n",
       "</style>\n",
       "<table border=\"1\" class=\"dataframe\">\n",
       "  <thead>\n",
       "    <tr style=\"text-align: right;\">\n",
       "      <th></th>\n",
       "      <th>Households_with_Telephone_Mobile_Phone_Mobile_only</th>\n",
       "      <th>Agricultural_Workers</th>\n",
       "    </tr>\n",
       "  </thead>\n",
       "  <tbody>\n",
       "    <tr>\n",
       "      <th>0</th>\n",
       "      <td>53437</td>\n",
       "      <td>56759</td>\n",
       "    </tr>\n",
       "    <tr>\n",
       "      <th>1</th>\n",
       "      <td>65783</td>\n",
       "      <td>36630</td>\n",
       "    </tr>\n",
       "    <tr>\n",
       "      <th>2</th>\n",
       "      <td>6331</td>\n",
       "      <td>1645</td>\n",
       "    </tr>\n",
       "    <tr>\n",
       "      <th>3</th>\n",
       "      <td>7733</td>\n",
       "      <td>3763</td>\n",
       "    </tr>\n",
       "    <tr>\n",
       "      <th>4</th>\n",
       "      <td>31773</td>\n",
       "      <td>31583</td>\n",
       "    </tr>\n",
       "  </tbody>\n",
       "</table>\n",
       "</div>"
      ],
      "text/plain": [
       "   Households_with_Telephone_Mobile_Phone_Mobile_only  Agricultural_Workers\n",
       "0                                              53437                  56759\n",
       "1                                              65783                  36630\n",
       "2                                               6331                   1645\n",
       "3                                               7733                   3763\n",
       "4                                              31773                  31583"
      ]
     },
     "execution_count": 199,
     "metadata": {},
     "output_type": "execute_result"
    }
   ],
   "source": [
    "data2.head()"
   ]
  },
  {
   "cell_type": "code",
   "execution_count": 200,
   "metadata": {},
   "outputs": [
    {
     "data": {
      "text/html": [
       "\n",
       "    <div class=\"bk-root\">\n",
       "        <a href=\"https://bokeh.pydata.org\" target=\"_blank\" class=\"bk-logo bk-logo-small bk-logo-notebook\"></a>\n",
       "        <span id=\"1e5c1445-3fcc-40d8-b6ab-8a9ed15c8c8c\">Loading BokehJS ...</span>\n",
       "    </div>"
      ]
     },
     "metadata": {},
     "output_type": "display_data"
    },
    {
     "data": {
      "application/javascript": [
       "\n",
       "(function(root) {\n",
       "  function now() {\n",
       "    return new Date();\n",
       "  }\n",
       "\n",
       "  var force = true;\n",
       "\n",
       "  if (typeof (root._bokeh_onload_callbacks) === \"undefined\" || force === true) {\n",
       "    root._bokeh_onload_callbacks = [];\n",
       "    root._bokeh_is_loading = undefined;\n",
       "  }\n",
       "\n",
       "  var JS_MIME_TYPE = 'application/javascript';\n",
       "  var HTML_MIME_TYPE = 'text/html';\n",
       "  var EXEC_MIME_TYPE = 'application/vnd.bokehjs_exec.v0+json';\n",
       "  var CLASS_NAME = 'output_bokeh rendered_html';\n",
       "\n",
       "  /**\n",
       "   * Render data to the DOM node\n",
       "   */\n",
       "  function render(props, node) {\n",
       "    var script = document.createElement(\"script\");\n",
       "    node.appendChild(script);\n",
       "  }\n",
       "\n",
       "  /**\n",
       "   * Handle when an output is cleared or removed\n",
       "   */\n",
       "  function handleClearOutput(event, handle) {\n",
       "    var cell = handle.cell;\n",
       "\n",
       "    var id = cell.output_area._bokeh_element_id;\n",
       "    var server_id = cell.output_area._bokeh_server_id;\n",
       "    // Clean up Bokeh references\n",
       "    if (id !== undefined) {\n",
       "      Bokeh.index[id].model.document.clear();\n",
       "      delete Bokeh.index[id];\n",
       "    }\n",
       "\n",
       "    if (server_id !== undefined) {\n",
       "      // Clean up Bokeh references\n",
       "      var cmd = \"from bokeh.io.state import curstate; print(curstate().uuid_to_server['\" + server_id + \"'].get_sessions()[0].document.roots[0]._id)\";\n",
       "      cell.notebook.kernel.execute(cmd, {\n",
       "        iopub: {\n",
       "          output: function(msg) {\n",
       "            var element_id = msg.content.text.trim();\n",
       "            Bokeh.index[element_id].model.document.clear();\n",
       "            delete Bokeh.index[element_id];\n",
       "          }\n",
       "        }\n",
       "      });\n",
       "      // Destroy server and session\n",
       "      var cmd = \"import bokeh.io.notebook as ion; ion.destroy_server('\" + server_id + \"')\";\n",
       "      cell.notebook.kernel.execute(cmd);\n",
       "    }\n",
       "  }\n",
       "\n",
       "  /**\n",
       "   * Handle when a new output is added\n",
       "   */\n",
       "  function handleAddOutput(event, handle) {\n",
       "    var output_area = handle.output_area;\n",
       "    var output = handle.output;\n",
       "\n",
       "    // limit handleAddOutput to display_data with EXEC_MIME_TYPE content only\n",
       "    if ((output.output_type != \"display_data\") || (!output.data.hasOwnProperty(EXEC_MIME_TYPE))) {\n",
       "      return\n",
       "    }\n",
       "\n",
       "    var toinsert = output_area.element.find(\".\" + CLASS_NAME.split(' ')[0]);\n",
       "\n",
       "    if (output.metadata[EXEC_MIME_TYPE][\"id\"] !== undefined) {\n",
       "      toinsert[0].firstChild.textContent = output.data[JS_MIME_TYPE];\n",
       "      // store reference to embed id on output_area\n",
       "      output_area._bokeh_element_id = output.metadata[EXEC_MIME_TYPE][\"id\"];\n",
       "    }\n",
       "    if (output.metadata[EXEC_MIME_TYPE][\"server_id\"] !== undefined) {\n",
       "      var bk_div = document.createElement(\"div\");\n",
       "      bk_div.innerHTML = output.data[HTML_MIME_TYPE];\n",
       "      var script_attrs = bk_div.children[0].attributes;\n",
       "      for (var i = 0; i < script_attrs.length; i++) {\n",
       "        toinsert[0].firstChild.setAttribute(script_attrs[i].name, script_attrs[i].value);\n",
       "      }\n",
       "      // store reference to server id on output_area\n",
       "      output_area._bokeh_server_id = output.metadata[EXEC_MIME_TYPE][\"server_id\"];\n",
       "    }\n",
       "  }\n",
       "\n",
       "  function register_renderer(events, OutputArea) {\n",
       "\n",
       "    function append_mime(data, metadata, element) {\n",
       "      // create a DOM node to render to\n",
       "      var toinsert = this.create_output_subarea(\n",
       "        metadata,\n",
       "        CLASS_NAME,\n",
       "        EXEC_MIME_TYPE\n",
       "      );\n",
       "      this.keyboard_manager.register_events(toinsert);\n",
       "      // Render to node\n",
       "      var props = {data: data, metadata: metadata[EXEC_MIME_TYPE]};\n",
       "      render(props, toinsert[0]);\n",
       "      element.append(toinsert);\n",
       "      return toinsert\n",
       "    }\n",
       "\n",
       "    /* Handle when an output is cleared or removed */\n",
       "    events.on('clear_output.CodeCell', handleClearOutput);\n",
       "    events.on('delete.Cell', handleClearOutput);\n",
       "\n",
       "    /* Handle when a new output is added */\n",
       "    events.on('output_added.OutputArea', handleAddOutput);\n",
       "\n",
       "    /**\n",
       "     * Register the mime type and append_mime function with output_area\n",
       "     */\n",
       "    OutputArea.prototype.register_mime_type(EXEC_MIME_TYPE, append_mime, {\n",
       "      /* Is output safe? */\n",
       "      safe: true,\n",
       "      /* Index of renderer in `output_area.display_order` */\n",
       "      index: 0\n",
       "    });\n",
       "  }\n",
       "\n",
       "  // register the mime type if in Jupyter Notebook environment and previously unregistered\n",
       "  if (root.Jupyter !== undefined) {\n",
       "    var events = require('base/js/events');\n",
       "    var OutputArea = require('notebook/js/outputarea').OutputArea;\n",
       "\n",
       "    if (OutputArea.prototype.mime_types().indexOf(EXEC_MIME_TYPE) == -1) {\n",
       "      register_renderer(events, OutputArea);\n",
       "    }\n",
       "  }\n",
       "\n",
       "  \n",
       "  if (typeof (root._bokeh_timeout) === \"undefined\" || force === true) {\n",
       "    root._bokeh_timeout = Date.now() + 5000;\n",
       "    root._bokeh_failed_load = false;\n",
       "  }\n",
       "\n",
       "  var NB_LOAD_WARNING = {'data': {'text/html':\n",
       "     \"<div style='background-color: #fdd'>\\n\"+\n",
       "     \"<p>\\n\"+\n",
       "     \"BokehJS does not appear to have successfully loaded. If loading BokehJS from CDN, this \\n\"+\n",
       "     \"may be due to a slow or bad network connection. Possible fixes:\\n\"+\n",
       "     \"</p>\\n\"+\n",
       "     \"<ul>\\n\"+\n",
       "     \"<li>re-rerun `output_notebook()` to attempt to load from CDN again, or</li>\\n\"+\n",
       "     \"<li>use INLINE resources instead, as so:</li>\\n\"+\n",
       "     \"</ul>\\n\"+\n",
       "     \"<code>\\n\"+\n",
       "     \"from bokeh.resources import INLINE\\n\"+\n",
       "     \"output_notebook(resources=INLINE)\\n\"+\n",
       "     \"</code>\\n\"+\n",
       "     \"</div>\"}};\n",
       "\n",
       "  function display_loaded() {\n",
       "    var el = document.getElementById(\"1e5c1445-3fcc-40d8-b6ab-8a9ed15c8c8c\");\n",
       "    if (el != null) {\n",
       "      el.textContent = \"BokehJS is loading...\";\n",
       "    }\n",
       "    if (root.Bokeh !== undefined) {\n",
       "      if (el != null) {\n",
       "        el.textContent = \"BokehJS \" + root.Bokeh.version + \" successfully loaded.\";\n",
       "      }\n",
       "    } else if (Date.now() < root._bokeh_timeout) {\n",
       "      setTimeout(display_loaded, 100)\n",
       "    }\n",
       "  }\n",
       "\n",
       "\n",
       "  function run_callbacks() {\n",
       "    try {\n",
       "      root._bokeh_onload_callbacks.forEach(function(callback) { callback() });\n",
       "    }\n",
       "    finally {\n",
       "      delete root._bokeh_onload_callbacks\n",
       "    }\n",
       "    console.info(\"Bokeh: all callbacks have finished\");\n",
       "  }\n",
       "\n",
       "  function load_libs(js_urls, callback) {\n",
       "    root._bokeh_onload_callbacks.push(callback);\n",
       "    if (root._bokeh_is_loading > 0) {\n",
       "      console.log(\"Bokeh: BokehJS is being loaded, scheduling callback at\", now());\n",
       "      return null;\n",
       "    }\n",
       "    if (js_urls == null || js_urls.length === 0) {\n",
       "      run_callbacks();\n",
       "      return null;\n",
       "    }\n",
       "    console.log(\"Bokeh: BokehJS not loaded, scheduling load and callback at\", now());\n",
       "    root._bokeh_is_loading = js_urls.length;\n",
       "    for (var i = 0; i < js_urls.length; i++) {\n",
       "      var url = js_urls[i];\n",
       "      var s = document.createElement('script');\n",
       "      s.src = url;\n",
       "      s.async = false;\n",
       "      s.onreadystatechange = s.onload = function() {\n",
       "        root._bokeh_is_loading--;\n",
       "        if (root._bokeh_is_loading === 0) {\n",
       "          console.log(\"Bokeh: all BokehJS libraries loaded\");\n",
       "          run_callbacks()\n",
       "        }\n",
       "      };\n",
       "      s.onerror = function() {\n",
       "        console.warn(\"failed to load library \" + url);\n",
       "      };\n",
       "      console.log(\"Bokeh: injecting script tag for BokehJS library: \", url);\n",
       "      document.getElementsByTagName(\"head\")[0].appendChild(s);\n",
       "    }\n",
       "  };var element = document.getElementById(\"1e5c1445-3fcc-40d8-b6ab-8a9ed15c8c8c\");\n",
       "  if (element == null) {\n",
       "    console.log(\"Bokeh: ERROR: autoload.js configured with elementid '1e5c1445-3fcc-40d8-b6ab-8a9ed15c8c8c' but no matching script tag was found. \")\n",
       "    return false;\n",
       "  }\n",
       "\n",
       "  var js_urls = [\"https://cdn.pydata.org/bokeh/release/bokeh-0.12.11.min.js\", \"https://cdn.pydata.org/bokeh/release/bokeh-widgets-0.12.11.min.js\", \"https://cdn.pydata.org/bokeh/release/bokeh-tables-0.12.11.min.js\", \"https://cdn.pydata.org/bokeh/release/bokeh-gl-0.12.11.min.js\"];\n",
       "\n",
       "  var inline_js = [\n",
       "    function(Bokeh) {\n",
       "      Bokeh.set_log_level(\"info\");\n",
       "    },\n",
       "    \n",
       "    function(Bokeh) {\n",
       "      \n",
       "    },\n",
       "    function(Bokeh) {\n",
       "      console.log(\"Bokeh: injecting CSS: https://cdn.pydata.org/bokeh/release/bokeh-0.12.11.min.css\");\n",
       "      Bokeh.embed.inject_css(\"https://cdn.pydata.org/bokeh/release/bokeh-0.12.11.min.css\");\n",
       "      console.log(\"Bokeh: injecting CSS: https://cdn.pydata.org/bokeh/release/bokeh-widgets-0.12.11.min.css\");\n",
       "      Bokeh.embed.inject_css(\"https://cdn.pydata.org/bokeh/release/bokeh-widgets-0.12.11.min.css\");\n",
       "      console.log(\"Bokeh: injecting CSS: https://cdn.pydata.org/bokeh/release/bokeh-tables-0.12.11.min.css\");\n",
       "      Bokeh.embed.inject_css(\"https://cdn.pydata.org/bokeh/release/bokeh-tables-0.12.11.min.css\");\n",
       "    }\n",
       "  ];\n",
       "\n",
       "  function run_inline_js() {\n",
       "    \n",
       "    if ((root.Bokeh !== undefined) || (force === true)) {\n",
       "      for (var i = 0; i < inline_js.length; i++) {\n",
       "        inline_js[i].call(root, root.Bokeh);\n",
       "      }if (force === true) {\n",
       "        display_loaded();\n",
       "      }} else if (Date.now() < root._bokeh_timeout) {\n",
       "      setTimeout(run_inline_js, 100);\n",
       "    } else if (!root._bokeh_failed_load) {\n",
       "      console.log(\"Bokeh: BokehJS failed to load within specified timeout.\");\n",
       "      root._bokeh_failed_load = true;\n",
       "    } else if (force !== true) {\n",
       "      var cell = $(document.getElementById(\"1e5c1445-3fcc-40d8-b6ab-8a9ed15c8c8c\")).parents('.cell').data().cell;\n",
       "      cell.output_area.append_execute_result(NB_LOAD_WARNING)\n",
       "    }\n",
       "\n",
       "  }\n",
       "\n",
       "  if (root._bokeh_is_loading === 0) {\n",
       "    console.log(\"Bokeh: BokehJS loaded, going straight to plotting\");\n",
       "    run_inline_js();\n",
       "  } else {\n",
       "    load_libs(js_urls, function() {\n",
       "      console.log(\"Bokeh: BokehJS plotting callback run at\", now());\n",
       "      run_inline_js();\n",
       "    });\n",
       "  }\n",
       "}(window));"
      ],
      "application/vnd.bokehjs_load.v0+json": "\n(function(root) {\n  function now() {\n    return new Date();\n  }\n\n  var force = true;\n\n  if (typeof (root._bokeh_onload_callbacks) === \"undefined\" || force === true) {\n    root._bokeh_onload_callbacks = [];\n    root._bokeh_is_loading = undefined;\n  }\n\n  \n\n  \n  if (typeof (root._bokeh_timeout) === \"undefined\" || force === true) {\n    root._bokeh_timeout = Date.now() + 5000;\n    root._bokeh_failed_load = false;\n  }\n\n  var NB_LOAD_WARNING = {'data': {'text/html':\n     \"<div style='background-color: #fdd'>\\n\"+\n     \"<p>\\n\"+\n     \"BokehJS does not appear to have successfully loaded. If loading BokehJS from CDN, this \\n\"+\n     \"may be due to a slow or bad network connection. Possible fixes:\\n\"+\n     \"</p>\\n\"+\n     \"<ul>\\n\"+\n     \"<li>re-rerun `output_notebook()` to attempt to load from CDN again, or</li>\\n\"+\n     \"<li>use INLINE resources instead, as so:</li>\\n\"+\n     \"</ul>\\n\"+\n     \"<code>\\n\"+\n     \"from bokeh.resources import INLINE\\n\"+\n     \"output_notebook(resources=INLINE)\\n\"+\n     \"</code>\\n\"+\n     \"</div>\"}};\n\n  function display_loaded() {\n    var el = document.getElementById(\"1e5c1445-3fcc-40d8-b6ab-8a9ed15c8c8c\");\n    if (el != null) {\n      el.textContent = \"BokehJS is loading...\";\n    }\n    if (root.Bokeh !== undefined) {\n      if (el != null) {\n        el.textContent = \"BokehJS \" + root.Bokeh.version + \" successfully loaded.\";\n      }\n    } else if (Date.now() < root._bokeh_timeout) {\n      setTimeout(display_loaded, 100)\n    }\n  }\n\n\n  function run_callbacks() {\n    try {\n      root._bokeh_onload_callbacks.forEach(function(callback) { callback() });\n    }\n    finally {\n      delete root._bokeh_onload_callbacks\n    }\n    console.info(\"Bokeh: all callbacks have finished\");\n  }\n\n  function load_libs(js_urls, callback) {\n    root._bokeh_onload_callbacks.push(callback);\n    if (root._bokeh_is_loading > 0) {\n      console.log(\"Bokeh: BokehJS is being loaded, scheduling callback at\", now());\n      return null;\n    }\n    if (js_urls == null || js_urls.length === 0) {\n      run_callbacks();\n      return null;\n    }\n    console.log(\"Bokeh: BokehJS not loaded, scheduling load and callback at\", now());\n    root._bokeh_is_loading = js_urls.length;\n    for (var i = 0; i < js_urls.length; i++) {\n      var url = js_urls[i];\n      var s = document.createElement('script');\n      s.src = url;\n      s.async = false;\n      s.onreadystatechange = s.onload = function() {\n        root._bokeh_is_loading--;\n        if (root._bokeh_is_loading === 0) {\n          console.log(\"Bokeh: all BokehJS libraries loaded\");\n          run_callbacks()\n        }\n      };\n      s.onerror = function() {\n        console.warn(\"failed to load library \" + url);\n      };\n      console.log(\"Bokeh: injecting script tag for BokehJS library: \", url);\n      document.getElementsByTagName(\"head\")[0].appendChild(s);\n    }\n  };var element = document.getElementById(\"1e5c1445-3fcc-40d8-b6ab-8a9ed15c8c8c\");\n  if (element == null) {\n    console.log(\"Bokeh: ERROR: autoload.js configured with elementid '1e5c1445-3fcc-40d8-b6ab-8a9ed15c8c8c' but no matching script tag was found. \")\n    return false;\n  }\n\n  var js_urls = [\"https://cdn.pydata.org/bokeh/release/bokeh-0.12.11.min.js\", \"https://cdn.pydata.org/bokeh/release/bokeh-widgets-0.12.11.min.js\", \"https://cdn.pydata.org/bokeh/release/bokeh-tables-0.12.11.min.js\", \"https://cdn.pydata.org/bokeh/release/bokeh-gl-0.12.11.min.js\"];\n\n  var inline_js = [\n    function(Bokeh) {\n      Bokeh.set_log_level(\"info\");\n    },\n    \n    function(Bokeh) {\n      \n    },\n    function(Bokeh) {\n      console.log(\"Bokeh: injecting CSS: https://cdn.pydata.org/bokeh/release/bokeh-0.12.11.min.css\");\n      Bokeh.embed.inject_css(\"https://cdn.pydata.org/bokeh/release/bokeh-0.12.11.min.css\");\n      console.log(\"Bokeh: injecting CSS: https://cdn.pydata.org/bokeh/release/bokeh-widgets-0.12.11.min.css\");\n      Bokeh.embed.inject_css(\"https://cdn.pydata.org/bokeh/release/bokeh-widgets-0.12.11.min.css\");\n      console.log(\"Bokeh: injecting CSS: https://cdn.pydata.org/bokeh/release/bokeh-tables-0.12.11.min.css\");\n      Bokeh.embed.inject_css(\"https://cdn.pydata.org/bokeh/release/bokeh-tables-0.12.11.min.css\");\n    }\n  ];\n\n  function run_inline_js() {\n    \n    if ((root.Bokeh !== undefined) || (force === true)) {\n      for (var i = 0; i < inline_js.length; i++) {\n        inline_js[i].call(root, root.Bokeh);\n      }if (force === true) {\n        display_loaded();\n      }} else if (Date.now() < root._bokeh_timeout) {\n      setTimeout(run_inline_js, 100);\n    } else if (!root._bokeh_failed_load) {\n      console.log(\"Bokeh: BokehJS failed to load within specified timeout.\");\n      root._bokeh_failed_load = true;\n    } else if (force !== true) {\n      var cell = $(document.getElementById(\"1e5c1445-3fcc-40d8-b6ab-8a9ed15c8c8c\")).parents('.cell').data().cell;\n      cell.output_area.append_execute_result(NB_LOAD_WARNING)\n    }\n\n  }\n\n  if (root._bokeh_is_loading === 0) {\n    console.log(\"Bokeh: BokehJS loaded, going straight to plotting\");\n    run_inline_js();\n  } else {\n    load_libs(js_urls, function() {\n      console.log(\"Bokeh: BokehJS plotting callback run at\", now());\n      run_inline_js();\n    });\n  }\n}(window));"
     },
     "metadata": {},
     "output_type": "display_data"
    },
    {
     "data": {
      "text/html": [
       "\n",
       "<div class=\"bk-root\">\n",
       "    <div class=\"bk-plotdiv\" id=\"64e0e03d-02c5-4b76-98eb-4a6099a81a00\"></div>\n",
       "</div>"
      ]
     },
     "metadata": {},
     "output_type": "display_data"
    },
    {
     "data": {
      "application/javascript": [
       "(function(root) {\n",
       "  function embed_document(root) {\n",
       "    var docs_json = {\"bc2185d2-6afc-41c8-afcf-a9f70ee8c608\":{\"roots\":{\"references\":[{\"attributes\":{\"plot\":null,\"text\":\"Mobile penetration among agricultural workers\"},\"id\":\"b714bfaf-f7e3-43be-ba23-3cccfb132267\",\"type\":\"Title\"},{\"attributes\":{\"callback\":null},\"id\":\"6db09935-a8ec-4058-a67a-bad8c70c6e84\",\"type\":\"DataRange1d\"},{\"attributes\":{},\"id\":\"b2f8a326-1393-48c8-b711-f992e39210fe\",\"type\":\"HelpTool\"},{\"attributes\":{\"formatter\":{\"id\":\"aa97d284-3cc6-4813-9bea-6d477576dd14\",\"type\":\"BasicTickFormatter\"},\"plot\":{\"id\":\"10bb1254-edd0-453f-9710-99ffbf12066b\",\"subtype\":\"Figure\",\"type\":\"Plot\"},\"ticker\":{\"id\":\"e9b5f572-188c-44bd-ac38-d3aafda3ca49\",\"type\":\"BasicTicker\"}},\"id\":\"f5fd1812-66e3-4fe5-9b97-551a5a4644d1\",\"type\":\"LinearAxis\"},{\"attributes\":{},\"id\":\"b4430c76-9330-461a-beb1-638a543075f7\",\"type\":\"BasicTickFormatter\"},{\"attributes\":{\"fill_alpha\":{\"value\":0.1},\"fill_color\":{\"value\":\"#1f77b4\"},\"line_alpha\":{\"value\":0.1},\"line_color\":{\"value\":\"#1f77b4\"},\"x\":{\"field\":\"x\"},\"y\":{\"field\":\"y\"}},\"id\":\"8730bb55-f76d-4cd5-ba17-ed3be998855b\",\"type\":\"Circle\"},{\"attributes\":{},\"id\":\"17ddc15f-e768-4b55-be3c-4cd1740ee0a7\",\"type\":\"ResetTool\"},{\"attributes\":{\"formatter\":{\"id\":\"b4430c76-9330-461a-beb1-638a543075f7\",\"type\":\"BasicTickFormatter\"},\"plot\":{\"id\":\"10bb1254-edd0-453f-9710-99ffbf12066b\",\"subtype\":\"Figure\",\"type\":\"Plot\"},\"ticker\":{\"id\":\"67ccb5d0-9b45-48d1-93a4-7190aba1b1ea\",\"type\":\"BasicTicker\"}},\"id\":\"9c227544-6b20-4c48-a4fc-fc0598c92561\",\"type\":\"LinearAxis\"},{\"attributes\":{},\"id\":\"49638106-f625-4cf6-8d07-8329f8c943b2\",\"type\":\"SaveTool\"},{\"attributes\":{\"source\":{\"id\":\"25ca50dd-aa7a-4b5b-8037-03ecef33ef12\",\"type\":\"ColumnDataSource\"}},\"id\":\"cba60cf3-80d4-441c-b296-97cca98a34a3\",\"type\":\"CDSView\"},{\"attributes\":{\"data_source\":{\"id\":\"25ca50dd-aa7a-4b5b-8037-03ecef33ef12\",\"type\":\"ColumnDataSource\"},\"glyph\":{\"id\":\"bd593318-d1e8-4a4b-ae82-7b35a041dcec\",\"type\":\"Circle\"},\"hover_glyph\":null,\"muted_glyph\":null,\"nonselection_glyph\":{\"id\":\"8730bb55-f76d-4cd5-ba17-ed3be998855b\",\"type\":\"Circle\"},\"selection_glyph\":null,\"view\":{\"id\":\"cba60cf3-80d4-441c-b296-97cca98a34a3\",\"type\":\"CDSView\"}},\"id\":\"b17a82a8-c080-4e41-8870-0a260055244a\",\"type\":\"GlyphRenderer\"},{\"attributes\":{},\"id\":\"f974a458-4fba-4609-acb0-1112a864c8df\",\"type\":\"WheelZoomTool\"},{\"attributes\":{},\"id\":\"763f5790-09cb-4f7b-b3ec-642a38be4a2d\",\"type\":\"LinearScale\"},{\"attributes\":{},\"id\":\"aa97d284-3cc6-4813-9bea-6d477576dd14\",\"type\":\"BasicTickFormatter\"},{\"attributes\":{\"overlay\":{\"id\":\"1d55ebf4-8604-43d7-897b-96eb20a135b0\",\"type\":\"BoxAnnotation\"}},\"id\":\"07bdb80f-5e21-4109-9ee9-6f3272323775\",\"type\":\"BoxZoomTool\"},{\"attributes\":{},\"id\":\"67ccb5d0-9b45-48d1-93a4-7190aba1b1ea\",\"type\":\"BasicTicker\"},{\"attributes\":{\"callback\":null,\"column_names\":[\"x\",\"y\"],\"data\":{\"x\":[56759,36630,1645,3763,31583,24016,21566,62246,32882,10408,19312,34080,10835,76364,29928,12199,8810,16296,11396,4009,36873,6105,9193,54849,572,12372,15822,8824,19604,4138,10283,10730,26114,2537,100684,42387,66664,74362,22626,21389,98646,82397,227971,111014,54058,128382,90367,89123,121599,81216,21520,21791,91799,40460,1687,4387,3845,3200,8129,38195,13715,5432,8985,10274,4032,34742,165250,103115,12827,57293,73251,85890,85651,133723,62358,101733,102071,97997,147042,144213,103788,36568,44845,38320,28215,27097,55278,29288,60685,13289,1791,2406,3094,275,601,4358,7753,5908,230438,166833,103833,87983,68878,216772,238894,74342,115367,88804,76277,131523,87889,263401,242017,43872,132696,158013,97823,237280,145523,113426,111388,163052,106587,184330,199370,123469,134992,185037,209772,302968,96815,273050,323641,311489,338384,230238,131877,153995,74500,123680,48845,241137,267197,154720,179248,234455,150221,137174,258758,326376,224192,275192,422142,473554,406830,332663,203029,507882,135679,129517,158026,151727,234069,258790,243035,248072,131354,181449,130422,273458,150695,425366,386563,321410,541146,421973,272734,301120,501634,482897,165118,328768,431532,395993,282260,241825,532486,454931,528388,291016,452055,212343,384432,436792,435934,248674,182146,104419,334372,371261,131779,107094,998833,1057417,136334,635907,940642,554271,691947,321867,745015,672291,484062,356833,642115,769001,338666,376344,493461,502637,721629,430870,325731,475228,462614,196449,159970,109696,534021,658203,364875,251790,268597,405544,426096,783505,397505,331466,179519,144698,2262,8053,4188,11483,1581,1705,1063,1859,1846,1384,3565,804,4208,1811,1968,2947,106,3354,7789,181,10836,9166,11955,6438,8990,3159,3913,1309,1259,2198,3739,30369,1924,8282,15109,33106,12870,20250,3852,8315,2553,5921,11434,5823,1284,10662,3153,957,156108,111332,42201,43977,39725,19246,5565,37184,19989,40889,35766,56330,171116,75828,98946,75984,196174,114865,43922,19181,47756,61209,48468,53153,66616,60952,4818,68664,67033,31248,47406,35224,99522,16995,34984,94591,81617,72744,66041,349672,391875,442328,279932,545759,842294,611510,973182,556134,599039,583380,647374,492205,181662,12388,806562,1105201,702304,328673,188513,64275,362610,209693,307767,206902,150028,103488,126406,80840,209802,380976,142729,172385,46815,303084,135667,267360,49448,97918,90232,267475,142966,360650,56809,160798,82490,253327,310075,568755,358214,151377,143864,110323,248298,186021,163636,172414,120129,116274,163942,565448,153199,162932,104685,139413,326416,149834,436733,248175,328783,290626,106353,94648,523356,197558,323788,221806,402359,572292,185850,290108,560415,708993,278073,182602,129142,287828,13820,69385,49859,115261,148222,158266,120348,93744,220440,223852,238364,198847,378560,250165,371584,463506,145690,136330,266350,305946,302003,303157,310606,437437,185528,425712,267196,330820,228308,105195,227026,228151,358157,101256,181967,223902,283636,257865,190962,318909,422668,376404,459796,175615,122387,258991,130376,262030,228472,115649,73693,306623,156295,183971,350541,227080,242969,333867,129356,268954,270861,214285,147193,48964,333996,209935,334025,346329,359842,376038,438597,570361,188030,253577,40486,206608,183025,325739,254786,291,481,17799,438176,429536,937174,603227,388521,310195,667943,282170,423587,312183,281414,247813,473983,739718,632395,226483,317806,300937,396630,730228,418004,20722,5745,191182,414461,559009,373566,416578,299525,558334,297241,153117,81816,266028,290693,484912,448281,756859,571129,23029,349032,931084,863131,758092,804537,700833,557254,578949,1122046,1061787,1006976,1227956,889218,625262,542455,1037302,879537,748093,649517,303243,351600,280091,383526,273016,200310,207642,116336,311263,406092,294337,295873,246464,63390,126600,352286,97914,216159,165910,29274,15153,311002,214303,415267,234655,201233,206939,84108,102460,14120,12640,0,38774,82988,101630,64198,117405,249949,73941,71391,145698,63052,71706,55455,92193,94470,270586,13674,272514,391955,525063,832213,454210,253726,370212,79100,467959,200837,378782,118278,166837,539412,345057,295188,415361,305149,199563,372828,315161,208702,153874,200644,379763,72867,267345,263328,230026,246333,3324,51908,82,13077,242,1915,2624],\"y\":[53437,65783,6331,7733,31773,60010,78220,97257,31256,120553,24498,57529,29737,91482,46828,44395,25175,16097,56859,26081,179925,43895,64850,203232,3100,68134,119439,53918,70217,47001,76524,62390,125896,12885,235958,110664,283455,194786,72838,75475,433701,123059,241473,110506,74148,174630,96462,241577,313792,141814,85617,130990,166643,60840,148411,40344,53380,36551,90594,217406,99987,58592,32980,86810,28298,122791,205913,220399,60941,124292,146060,119559,138662,188467,150926,177741,168445,120937,165463,231246,221159,137267,123227,119066,113600,201135,107323,240316,101535,476276,129478,303589,228268,19610,77630,335857,317773,391300,245365,221056,258313,239082,260755,425909,278181,109488,157750,157946,189893,799337,337713,426132,428590,75669,278070,223035,111563,273115,307831,172900,131153,301587,154105,105158,96893,199003,245637,140980,152800,284548,72023,386772,467994,414342,465306,232709,194951,382571,139547,577047,219976,381418,407346,173221,287981,458049,262500,196084,334481,439045,192082,268315,338710,346907,362234,283343,506004,337107,183442,161683,160626,139506,163780,505552,184347,241710,118747,130019,105277,164115,80095,244195,369563,145907,556688,286603,252641,240089,406409,248875,87530,185379,324246,258102,260953,184329,275217,498764,383308,358063,468786,216857,320335,473849,341596,176679,354568,137494,218005,151246,187428,140962,346729,546993,79360,318780,452569,195500,225586,122353,241206,223358,171436,155660,407567,499073,296491,378819,398651,365200,412873,309910,149998,284153,170898,138260,90531,57043,250849,590486,246774,162604,138835,291988,221469,356281,172239,147950,94340,60636,5882,15914,20095,44805,2310,6641,3378,22828,2569,7725,10557,2890,9224,6563,7429,2988,662,5804,11499,1027,12301,20356,14194,13898,53082,15543,13037,3650,4775,36160,7249,12483,5388,22068,25635,44149,75082,58059,11239,11205,9444,11315,63205,17391,9139,19185,6598,4977,203802,78220,22302,55819,39386,13572,5402,18167,19231,85408,29307,70925,129839,87967,143945,74407,246649,147652,86234,53184,111267,122011,124692,114237,93847,69985,16787,149865,94620,49610,70455,39832,152132,218591,80390,79674,67484,70225,214598,292839,194557,185285,140781,269454,485151,238435,810210,491932,1239980,661149,263516,175211,572020,631098,802296,487801,460289,96766,78668,75083,231728,119254,84687,60592,37087,303871,215478,31101,229290,155997,37343,189395,110861,70067,52099,293292,24812,51241,25218,68999,82876,113293,59416,91751,16773,191015,125986,151621,227957,152222,162310,137436,258129,158999,88778,97214,81278,271314,161039,335644,31087,31279,22714,40431,112601,36291,88061,48672,50559,72881,25105,45265,108569,32732,86142,80152,102814,157089,39929,87442,271429,295646,61420,50012,32294,51885,3612,18214,4019,54563,185231,169384,212669,83971,138219,133356,169223,78395,191397,95511,190089,212466,35134,87978,145378,127248,214879,146511,149660,166280,382419,132724,63051,136111,139131,281718,119776,126533,98857,58528,125466,91302,225299,75550,22759,44731,123094,72913,85942,110861,75605,64955,51002,78044,75778,56006,31337,89409,48291,304000,345550,158057,255293,216346,171699,923594,228637,558748,291406,81985,364428,198302,363545,187528,181434,192790,138489,462473,38303,176875,9243,155168,209929,855336,67669,6306,39565,41837,85451,175173,350725,257109,164233,111191,235775,135009,518071,110171,105702,63385,212167,242458,344527,124247,199804,194534,454647,668207,1484589,1290029,390211,280834,1451086,540314,306141,257877,171426,501095,378300,137452,93385,444091,319625,374630,385123,648422,430639,583744,900605,527437,545350,508632,389453,294830,236327,561627,614288,478091,598166,617321,451056,380926,408374,519103,534408,561188,543121,205045,247885,141567,211894,148202,108418,211479,147851,173044,288487,168893,239519,234606,145571,123117,285439,1609899,221352,239448,231383,58144,396142,107022,261706,109522,177116,135265,146993,132654,99169,74364,4977,110808,247886,91600,294411,424435,352106,318301,386537,154910,191404,237117,120334,278359,400748,630578,688857,665334,562422,345750,484134,564666,300910,383623,126977,335455,183206,447223,90597,121775,409698,216892,159818,374054,249584,218773,530152,187358,308362,217349,291485,468175,302741,222790,283487,635226,475349,7023,149552,2954,29352,6238,16145,44903]}},\"id\":\"25ca50dd-aa7a-4b5b-8037-03ecef33ef12\",\"type\":\"ColumnDataSource\"},{\"attributes\":{\"grid_line_color\":{\"value\":null},\"plot\":{\"id\":\"10bb1254-edd0-453f-9710-99ffbf12066b\",\"subtype\":\"Figure\",\"type\":\"Plot\"},\"ticker\":{\"id\":\"67ccb5d0-9b45-48d1-93a4-7190aba1b1ea\",\"type\":\"BasicTicker\"}},\"id\":\"ae5a9036-b702-465f-9c07-d7c99cc23a48\",\"type\":\"Grid\"},{\"attributes\":{\"dimension\":1,\"grid_line_color\":{\"value\":null},\"plot\":{\"id\":\"10bb1254-edd0-453f-9710-99ffbf12066b\",\"subtype\":\"Figure\",\"type\":\"Plot\"},\"ticker\":{\"id\":\"e9b5f572-188c-44bd-ac38-d3aafda3ca49\",\"type\":\"BasicTicker\"}},\"id\":\"cafb9f87-822c-4f31-a90d-2cc9439cf0dd\",\"type\":\"Grid\"},{\"attributes\":{},\"id\":\"5030ebab-034b-485f-a685-959f669aff51\",\"type\":\"LinearScale\"},{\"attributes\":{\"below\":[{\"id\":\"9c227544-6b20-4c48-a4fc-fc0598c92561\",\"type\":\"LinearAxis\"}],\"left\":[{\"id\":\"f5fd1812-66e3-4fe5-9b97-551a5a4644d1\",\"type\":\"LinearAxis\"}],\"renderers\":[{\"id\":\"9c227544-6b20-4c48-a4fc-fc0598c92561\",\"type\":\"LinearAxis\"},{\"id\":\"ae5a9036-b702-465f-9c07-d7c99cc23a48\",\"type\":\"Grid\"},{\"id\":\"f5fd1812-66e3-4fe5-9b97-551a5a4644d1\",\"type\":\"LinearAxis\"},{\"id\":\"cafb9f87-822c-4f31-a90d-2cc9439cf0dd\",\"type\":\"Grid\"},{\"id\":\"1d55ebf4-8604-43d7-897b-96eb20a135b0\",\"type\":\"BoxAnnotation\"},{\"id\":\"b17a82a8-c080-4e41-8870-0a260055244a\",\"type\":\"GlyphRenderer\"}],\"title\":{\"id\":\"b714bfaf-f7e3-43be-ba23-3cccfb132267\",\"type\":\"Title\"},\"toolbar\":{\"id\":\"602b1b8e-2cbc-48f6-8cb4-74667c5df417\",\"type\":\"Toolbar\"},\"toolbar_location\":null,\"x_range\":{\"id\":\"18ff0392-403c-4f89-810c-bd7331f00acc\",\"type\":\"DataRange1d\"},\"x_scale\":{\"id\":\"5030ebab-034b-485f-a685-959f669aff51\",\"type\":\"LinearScale\"},\"y_range\":{\"id\":\"6db09935-a8ec-4058-a67a-bad8c70c6e84\",\"type\":\"DataRange1d\"},\"y_scale\":{\"id\":\"763f5790-09cb-4f7b-b3ec-642a38be4a2d\",\"type\":\"LinearScale\"}},\"id\":\"10bb1254-edd0-453f-9710-99ffbf12066b\",\"subtype\":\"Figure\",\"type\":\"Plot\"},{\"attributes\":{},\"id\":\"e9b5f572-188c-44bd-ac38-d3aafda3ca49\",\"type\":\"BasicTicker\"},{\"attributes\":{\"fill_alpha\":{\"value\":0.8},\"fill_color\":{\"value\":\"firebrick\"},\"line_alpha\":{\"value\":0.8},\"line_color\":{\"value\":\"red\"},\"x\":{\"field\":\"x\"},\"y\":{\"field\":\"y\"}},\"id\":\"bd593318-d1e8-4a4b-ae82-7b35a041dcec\",\"type\":\"Circle\"},{\"attributes\":{\"bottom_units\":\"screen\",\"fill_alpha\":{\"value\":0.5},\"fill_color\":{\"value\":\"lightgrey\"},\"left_units\":\"screen\",\"level\":\"overlay\",\"line_alpha\":{\"value\":1.0},\"line_color\":{\"value\":\"black\"},\"line_dash\":[4,4],\"line_width\":{\"value\":2},\"plot\":null,\"render_mode\":\"css\",\"right_units\":\"screen\",\"top_units\":\"screen\"},\"id\":\"1d55ebf4-8604-43d7-897b-96eb20a135b0\",\"type\":\"BoxAnnotation\"},{\"attributes\":{\"callback\":null},\"id\":\"18ff0392-403c-4f89-810c-bd7331f00acc\",\"type\":\"DataRange1d\"},{\"attributes\":{\"active_drag\":\"auto\",\"active_inspect\":\"auto\",\"active_scroll\":\"auto\",\"active_tap\":\"auto\",\"tools\":[{\"id\":\"c19d3ca7-267e-4158-a0ac-77e46d3e0c82\",\"type\":\"PanTool\"},{\"id\":\"f974a458-4fba-4609-acb0-1112a864c8df\",\"type\":\"WheelZoomTool\"},{\"id\":\"07bdb80f-5e21-4109-9ee9-6f3272323775\",\"type\":\"BoxZoomTool\"},{\"id\":\"49638106-f625-4cf6-8d07-8329f8c943b2\",\"type\":\"SaveTool\"},{\"id\":\"17ddc15f-e768-4b55-be3c-4cd1740ee0a7\",\"type\":\"ResetTool\"},{\"id\":\"b2f8a326-1393-48c8-b711-f992e39210fe\",\"type\":\"HelpTool\"}]},\"id\":\"602b1b8e-2cbc-48f6-8cb4-74667c5df417\",\"type\":\"Toolbar\"},{\"attributes\":{},\"id\":\"c19d3ca7-267e-4158-a0ac-77e46d3e0c82\",\"type\":\"PanTool\"}],\"root_ids\":[\"10bb1254-edd0-453f-9710-99ffbf12066b\"]},\"title\":\"Bokeh Application\",\"version\":\"0.12.11\"}};\n",
       "    var render_items = [{\"docid\":\"bc2185d2-6afc-41c8-afcf-a9f70ee8c608\",\"elementid\":\"64e0e03d-02c5-4b76-98eb-4a6099a81a00\",\"modelid\":\"10bb1254-edd0-453f-9710-99ffbf12066b\"}];\n",
       "    root.Bokeh.embed.embed_items(docs_json, render_items);\n",
       "  }\n",
       "  if (root.Bokeh !== undefined) {\n",
       "    embed_document(root);\n",
       "  } else {\n",
       "    var attempts = 0;\n",
       "    var timer = setInterval(function(root) {\n",
       "      if (root.Bokeh !== undefined) {\n",
       "        embed_document(root);\n",
       "        clearInterval(timer);\n",
       "      }\n",
       "      attempts++;\n",
       "      if (attempts > 100) {\n",
       "        console.log(\"Bokeh: ERROR: Unable to embed document because BokehJS library is missing\")\n",
       "        clearInterval(timer);\n",
       "      }\n",
       "    }, 10, root)\n",
       "  }\n",
       "})(window);"
      ],
      "application/vnd.bokehjs_exec.v0+json": ""
     },
     "metadata": {
      "application/vnd.bokehjs_exec.v0+json": {
       "id": "10bb1254-edd0-453f-9710-99ffbf12066b"
      }
     },
     "output_type": "display_data"
    }
   ],
   "source": [
    "# Visualising the scatter plot between mobile penetrations and Agricultural_workers\n",
    "y = data2['Households_with_Telephone_Mobile_Phone_Mobile_only'].values\n",
    "x = data2['Agricultural_Workers'].values\n",
    "p = figure(title=\"Mobile penetration among agricultural workers\",toolbar_location=None)\n",
    "p.grid.grid_line_color = None\n",
    "p.scatter(x, y,marker='circle',fill_color='firebrick',\n",
    "         line_color='red',alpha=0.8)\n",
    "output_notebook()\n",
    "show(p)"
   ]
  },
  {
   "cell_type": "code",
   "execution_count": 201,
   "metadata": {},
   "outputs": [
    {
     "data": {
      "text/html": [
       "\n",
       "<div class=\"bk-root\">\n",
       "    <div class=\"bk-plotdiv\" id=\"fa28af3f-e62f-4e6b-8f98-85b0fccaf1e5\"></div>\n",
       "</div>"
      ]
     },
     "metadata": {},
     "output_type": "display_data"
    },
    {
     "data": {
      "application/javascript": [
       "(function(root) {\n",
       "  function embed_document(root) {\n",
       "    var docs_json = {\"516c0bff-6301-4906-ad65-c3d32347c424\":{\"roots\":{\"references\":[{\"attributes\":{\"plot\":null,\"text\":\"Mobile penetration among agricultural workers\"},\"id\":\"b714bfaf-f7e3-43be-ba23-3cccfb132267\",\"type\":\"Title\"},{\"attributes\":{\"callback\":null},\"id\":\"6db09935-a8ec-4058-a67a-bad8c70c6e84\",\"type\":\"DataRange1d\"},{\"attributes\":{},\"id\":\"b2f8a326-1393-48c8-b711-f992e39210fe\",\"type\":\"HelpTool\"},{\"attributes\":{\"formatter\":{\"id\":\"aa97d284-3cc6-4813-9bea-6d477576dd14\",\"type\":\"BasicTickFormatter\"},\"plot\":{\"id\":\"10bb1254-edd0-453f-9710-99ffbf12066b\",\"subtype\":\"Figure\",\"type\":\"Plot\"},\"ticker\":{\"id\":\"e9b5f572-188c-44bd-ac38-d3aafda3ca49\",\"type\":\"BasicTicker\"}},\"id\":\"f5fd1812-66e3-4fe5-9b97-551a5a4644d1\",\"type\":\"LinearAxis\"},{\"attributes\":{},\"id\":\"b4430c76-9330-461a-beb1-638a543075f7\",\"type\":\"BasicTickFormatter\"},{\"attributes\":{\"fill_alpha\":{\"value\":0.1},\"fill_color\":{\"value\":\"#1f77b4\"},\"line_alpha\":{\"value\":0.1},\"line_color\":{\"value\":\"#1f77b4\"},\"x\":{\"field\":\"x\"},\"y\":{\"field\":\"y\"}},\"id\":\"8730bb55-f76d-4cd5-ba17-ed3be998855b\",\"type\":\"Circle\"},{\"attributes\":{},\"id\":\"17ddc15f-e768-4b55-be3c-4cd1740ee0a7\",\"type\":\"ResetTool\"},{\"attributes\":{\"formatter\":{\"id\":\"b4430c76-9330-461a-beb1-638a543075f7\",\"type\":\"BasicTickFormatter\"},\"plot\":{\"id\":\"10bb1254-edd0-453f-9710-99ffbf12066b\",\"subtype\":\"Figure\",\"type\":\"Plot\"},\"ticker\":{\"id\":\"67ccb5d0-9b45-48d1-93a4-7190aba1b1ea\",\"type\":\"BasicTicker\"}},\"id\":\"9c227544-6b20-4c48-a4fc-fc0598c92561\",\"type\":\"LinearAxis\"},{\"attributes\":{},\"id\":\"49638106-f625-4cf6-8d07-8329f8c943b2\",\"type\":\"SaveTool\"},{\"attributes\":{\"source\":{\"id\":\"25ca50dd-aa7a-4b5b-8037-03ecef33ef12\",\"type\":\"ColumnDataSource\"}},\"id\":\"cba60cf3-80d4-441c-b296-97cca98a34a3\",\"type\":\"CDSView\"},{\"attributes\":{\"data_source\":{\"id\":\"25ca50dd-aa7a-4b5b-8037-03ecef33ef12\",\"type\":\"ColumnDataSource\"},\"glyph\":{\"id\":\"bd593318-d1e8-4a4b-ae82-7b35a041dcec\",\"type\":\"Circle\"},\"hover_glyph\":null,\"muted_glyph\":null,\"nonselection_glyph\":{\"id\":\"8730bb55-f76d-4cd5-ba17-ed3be998855b\",\"type\":\"Circle\"},\"selection_glyph\":null,\"view\":{\"id\":\"cba60cf3-80d4-441c-b296-97cca98a34a3\",\"type\":\"CDSView\"}},\"id\":\"b17a82a8-c080-4e41-8870-0a260055244a\",\"type\":\"GlyphRenderer\"},{\"attributes\":{},\"id\":\"f974a458-4fba-4609-acb0-1112a864c8df\",\"type\":\"WheelZoomTool\"},{\"attributes\":{},\"id\":\"763f5790-09cb-4f7b-b3ec-642a38be4a2d\",\"type\":\"LinearScale\"},{\"attributes\":{},\"id\":\"aa97d284-3cc6-4813-9bea-6d477576dd14\",\"type\":\"BasicTickFormatter\"},{\"attributes\":{\"overlay\":{\"id\":\"1d55ebf4-8604-43d7-897b-96eb20a135b0\",\"type\":\"BoxAnnotation\"}},\"id\":\"07bdb80f-5e21-4109-9ee9-6f3272323775\",\"type\":\"BoxZoomTool\"},{\"attributes\":{},\"id\":\"67ccb5d0-9b45-48d1-93a4-7190aba1b1ea\",\"type\":\"BasicTicker\"},{\"attributes\":{\"callback\":null,\"column_names\":[\"x\",\"y\"],\"data\":{\"x\":[56759,36630,1645,3763,31583,24016,21566,62246,32882,10408,19312,34080,10835,76364,29928,12199,8810,16296,11396,4009,36873,6105,9193,54849,572,12372,15822,8824,19604,4138,10283,10730,26114,2537,100684,42387,66664,74362,22626,21389,98646,82397,227971,111014,54058,128382,90367,89123,121599,81216,21520,21791,91799,40460,1687,4387,3845,3200,8129,38195,13715,5432,8985,10274,4032,34742,165250,103115,12827,57293,73251,85890,85651,133723,62358,101733,102071,97997,147042,144213,103788,36568,44845,38320,28215,27097,55278,29288,60685,13289,1791,2406,3094,275,601,4358,7753,5908,230438,166833,103833,87983,68878,216772,238894,74342,115367,88804,76277,131523,87889,263401,242017,43872,132696,158013,97823,237280,145523,113426,111388,163052,106587,184330,199370,123469,134992,185037,209772,302968,96815,273050,323641,311489,338384,230238,131877,153995,74500,123680,48845,241137,267197,154720,179248,234455,150221,137174,258758,326376,224192,275192,422142,473554,406830,332663,203029,507882,135679,129517,158026,151727,234069,258790,243035,248072,131354,181449,130422,273458,150695,425366,386563,321410,541146,421973,272734,301120,501634,482897,165118,328768,431532,395993,282260,241825,532486,454931,528388,291016,452055,212343,384432,436792,435934,248674,182146,104419,334372,371261,131779,107094,998833,1057417,136334,635907,940642,554271,691947,321867,745015,672291,484062,356833,642115,769001,338666,376344,493461,502637,721629,430870,325731,475228,462614,196449,159970,109696,534021,658203,364875,251790,268597,405544,426096,783505,397505,331466,179519,144698,2262,8053,4188,11483,1581,1705,1063,1859,1846,1384,3565,804,4208,1811,1968,2947,106,3354,7789,181,10836,9166,11955,6438,8990,3159,3913,1309,1259,2198,3739,30369,1924,8282,15109,33106,12870,20250,3852,8315,2553,5921,11434,5823,1284,10662,3153,957,156108,111332,42201,43977,39725,19246,5565,37184,19989,40889,35766,56330,171116,75828,98946,75984,196174,114865,43922,19181,47756,61209,48468,53153,66616,60952,4818,68664,67033,31248,47406,35224,99522,16995,34984,94591,81617,72744,66041,349672,391875,442328,279932,545759,842294,611510,973182,556134,599039,583380,647374,492205,181662,12388,806562,1105201,702304,328673,188513,64275,362610,209693,307767,206902,150028,103488,126406,80840,209802,380976,142729,172385,46815,303084,135667,267360,49448,97918,90232,267475,142966,360650,56809,160798,82490,253327,310075,568755,358214,151377,143864,110323,248298,186021,163636,172414,120129,116274,163942,565448,153199,162932,104685,139413,326416,149834,436733,248175,328783,290626,106353,94648,523356,197558,323788,221806,402359,572292,185850,290108,560415,708993,278073,182602,129142,287828,13820,69385,49859,115261,148222,158266,120348,93744,220440,223852,238364,198847,378560,250165,371584,463506,145690,136330,266350,305946,302003,303157,310606,437437,185528,425712,267196,330820,228308,105195,227026,228151,358157,101256,181967,223902,283636,257865,190962,318909,422668,376404,459796,175615,122387,258991,130376,262030,228472,115649,73693,306623,156295,183971,350541,227080,242969,333867,129356,268954,270861,214285,147193,48964,333996,209935,334025,346329,359842,376038,438597,570361,188030,253577,40486,206608,183025,325739,254786,291,481,17799,438176,429536,937174,603227,388521,310195,667943,282170,423587,312183,281414,247813,473983,739718,632395,226483,317806,300937,396630,730228,418004,20722,5745,191182,414461,559009,373566,416578,299525,558334,297241,153117,81816,266028,290693,484912,448281,756859,571129,23029,349032,931084,863131,758092,804537,700833,557254,578949,1122046,1061787,1006976,1227956,889218,625262,542455,1037302,879537,748093,649517,303243,351600,280091,383526,273016,200310,207642,116336,311263,406092,294337,295873,246464,63390,126600,352286,97914,216159,165910,29274,15153,311002,214303,415267,234655,201233,206939,84108,102460,14120,12640,0,38774,82988,101630,64198,117405,249949,73941,71391,145698,63052,71706,55455,92193,94470,270586,13674,272514,391955,525063,832213,454210,253726,370212,79100,467959,200837,378782,118278,166837,539412,345057,295188,415361,305149,199563,372828,315161,208702,153874,200644,379763,72867,267345,263328,230026,246333,3324,51908,82,13077,242,1915,2624],\"y\":[53437,65783,6331,7733,31773,60010,78220,97257,31256,120553,24498,57529,29737,91482,46828,44395,25175,16097,56859,26081,179925,43895,64850,203232,3100,68134,119439,53918,70217,47001,76524,62390,125896,12885,235958,110664,283455,194786,72838,75475,433701,123059,241473,110506,74148,174630,96462,241577,313792,141814,85617,130990,166643,60840,148411,40344,53380,36551,90594,217406,99987,58592,32980,86810,28298,122791,205913,220399,60941,124292,146060,119559,138662,188467,150926,177741,168445,120937,165463,231246,221159,137267,123227,119066,113600,201135,107323,240316,101535,476276,129478,303589,228268,19610,77630,335857,317773,391300,245365,221056,258313,239082,260755,425909,278181,109488,157750,157946,189893,799337,337713,426132,428590,75669,278070,223035,111563,273115,307831,172900,131153,301587,154105,105158,96893,199003,245637,140980,152800,284548,72023,386772,467994,414342,465306,232709,194951,382571,139547,577047,219976,381418,407346,173221,287981,458049,262500,196084,334481,439045,192082,268315,338710,346907,362234,283343,506004,337107,183442,161683,160626,139506,163780,505552,184347,241710,118747,130019,105277,164115,80095,244195,369563,145907,556688,286603,252641,240089,406409,248875,87530,185379,324246,258102,260953,184329,275217,498764,383308,358063,468786,216857,320335,473849,341596,176679,354568,137494,218005,151246,187428,140962,346729,546993,79360,318780,452569,195500,225586,122353,241206,223358,171436,155660,407567,499073,296491,378819,398651,365200,412873,309910,149998,284153,170898,138260,90531,57043,250849,590486,246774,162604,138835,291988,221469,356281,172239,147950,94340,60636,5882,15914,20095,44805,2310,6641,3378,22828,2569,7725,10557,2890,9224,6563,7429,2988,662,5804,11499,1027,12301,20356,14194,13898,53082,15543,13037,3650,4775,36160,7249,12483,5388,22068,25635,44149,75082,58059,11239,11205,9444,11315,63205,17391,9139,19185,6598,4977,203802,78220,22302,55819,39386,13572,5402,18167,19231,85408,29307,70925,129839,87967,143945,74407,246649,147652,86234,53184,111267,122011,124692,114237,93847,69985,16787,149865,94620,49610,70455,39832,152132,218591,80390,79674,67484,70225,214598,292839,194557,185285,140781,269454,485151,238435,810210,491932,1239980,661149,263516,175211,572020,631098,802296,487801,460289,96766,78668,75083,231728,119254,84687,60592,37087,303871,215478,31101,229290,155997,37343,189395,110861,70067,52099,293292,24812,51241,25218,68999,82876,113293,59416,91751,16773,191015,125986,151621,227957,152222,162310,137436,258129,158999,88778,97214,81278,271314,161039,335644,31087,31279,22714,40431,112601,36291,88061,48672,50559,72881,25105,45265,108569,32732,86142,80152,102814,157089,39929,87442,271429,295646,61420,50012,32294,51885,3612,18214,4019,54563,185231,169384,212669,83971,138219,133356,169223,78395,191397,95511,190089,212466,35134,87978,145378,127248,214879,146511,149660,166280,382419,132724,63051,136111,139131,281718,119776,126533,98857,58528,125466,91302,225299,75550,22759,44731,123094,72913,85942,110861,75605,64955,51002,78044,75778,56006,31337,89409,48291,304000,345550,158057,255293,216346,171699,923594,228637,558748,291406,81985,364428,198302,363545,187528,181434,192790,138489,462473,38303,176875,9243,155168,209929,855336,67669,6306,39565,41837,85451,175173,350725,257109,164233,111191,235775,135009,518071,110171,105702,63385,212167,242458,344527,124247,199804,194534,454647,668207,1484589,1290029,390211,280834,1451086,540314,306141,257877,171426,501095,378300,137452,93385,444091,319625,374630,385123,648422,430639,583744,900605,527437,545350,508632,389453,294830,236327,561627,614288,478091,598166,617321,451056,380926,408374,519103,534408,561188,543121,205045,247885,141567,211894,148202,108418,211479,147851,173044,288487,168893,239519,234606,145571,123117,285439,1609899,221352,239448,231383,58144,396142,107022,261706,109522,177116,135265,146993,132654,99169,74364,4977,110808,247886,91600,294411,424435,352106,318301,386537,154910,191404,237117,120334,278359,400748,630578,688857,665334,562422,345750,484134,564666,300910,383623,126977,335455,183206,447223,90597,121775,409698,216892,159818,374054,249584,218773,530152,187358,308362,217349,291485,468175,302741,222790,283487,635226,475349,7023,149552,2954,29352,6238,16145,44903]}},\"id\":\"25ca50dd-aa7a-4b5b-8037-03ecef33ef12\",\"type\":\"ColumnDataSource\"},{\"attributes\":{\"grid_line_color\":{\"value\":null},\"plot\":{\"id\":\"10bb1254-edd0-453f-9710-99ffbf12066b\",\"subtype\":\"Figure\",\"type\":\"Plot\"},\"ticker\":{\"id\":\"67ccb5d0-9b45-48d1-93a4-7190aba1b1ea\",\"type\":\"BasicTicker\"}},\"id\":\"ae5a9036-b702-465f-9c07-d7c99cc23a48\",\"type\":\"Grid\"},{\"attributes\":{\"dimension\":1,\"grid_line_color\":{\"value\":null},\"plot\":{\"id\":\"10bb1254-edd0-453f-9710-99ffbf12066b\",\"subtype\":\"Figure\",\"type\":\"Plot\"},\"ticker\":{\"id\":\"e9b5f572-188c-44bd-ac38-d3aafda3ca49\",\"type\":\"BasicTicker\"}},\"id\":\"cafb9f87-822c-4f31-a90d-2cc9439cf0dd\",\"type\":\"Grid\"},{\"attributes\":{},\"id\":\"5030ebab-034b-485f-a685-959f669aff51\",\"type\":\"LinearScale\"},{\"attributes\":{\"below\":[{\"id\":\"9c227544-6b20-4c48-a4fc-fc0598c92561\",\"type\":\"LinearAxis\"}],\"left\":[{\"id\":\"f5fd1812-66e3-4fe5-9b97-551a5a4644d1\",\"type\":\"LinearAxis\"}],\"renderers\":[{\"id\":\"9c227544-6b20-4c48-a4fc-fc0598c92561\",\"type\":\"LinearAxis\"},{\"id\":\"ae5a9036-b702-465f-9c07-d7c99cc23a48\",\"type\":\"Grid\"},{\"id\":\"f5fd1812-66e3-4fe5-9b97-551a5a4644d1\",\"type\":\"LinearAxis\"},{\"id\":\"cafb9f87-822c-4f31-a90d-2cc9439cf0dd\",\"type\":\"Grid\"},{\"id\":\"1d55ebf4-8604-43d7-897b-96eb20a135b0\",\"type\":\"BoxAnnotation\"},{\"id\":\"b17a82a8-c080-4e41-8870-0a260055244a\",\"type\":\"GlyphRenderer\"}],\"title\":{\"id\":\"b714bfaf-f7e3-43be-ba23-3cccfb132267\",\"type\":\"Title\"},\"toolbar\":{\"id\":\"602b1b8e-2cbc-48f6-8cb4-74667c5df417\",\"type\":\"Toolbar\"},\"toolbar_location\":null,\"x_range\":{\"id\":\"18ff0392-403c-4f89-810c-bd7331f00acc\",\"type\":\"DataRange1d\"},\"x_scale\":{\"id\":\"5030ebab-034b-485f-a685-959f669aff51\",\"type\":\"LinearScale\"},\"y_range\":{\"id\":\"6db09935-a8ec-4058-a67a-bad8c70c6e84\",\"type\":\"DataRange1d\"},\"y_scale\":{\"id\":\"763f5790-09cb-4f7b-b3ec-642a38be4a2d\",\"type\":\"LinearScale\"}},\"id\":\"10bb1254-edd0-453f-9710-99ffbf12066b\",\"subtype\":\"Figure\",\"type\":\"Plot\"},{\"attributes\":{},\"id\":\"e9b5f572-188c-44bd-ac38-d3aafda3ca49\",\"type\":\"BasicTicker\"},{\"attributes\":{\"fill_alpha\":{\"value\":0.8},\"fill_color\":{\"value\":\"firebrick\"},\"line_alpha\":{\"value\":0.8},\"line_color\":{\"value\":\"red\"},\"x\":{\"field\":\"x\"},\"y\":{\"field\":\"y\"}},\"id\":\"bd593318-d1e8-4a4b-ae82-7b35a041dcec\",\"type\":\"Circle\"},{\"attributes\":{\"bottom_units\":\"screen\",\"fill_alpha\":{\"value\":0.5},\"fill_color\":{\"value\":\"lightgrey\"},\"left_units\":\"screen\",\"level\":\"overlay\",\"line_alpha\":{\"value\":1.0},\"line_color\":{\"value\":\"black\"},\"line_dash\":[4,4],\"line_width\":{\"value\":2},\"plot\":null,\"render_mode\":\"css\",\"right_units\":\"screen\",\"top_units\":\"screen\"},\"id\":\"1d55ebf4-8604-43d7-897b-96eb20a135b0\",\"type\":\"BoxAnnotation\"},{\"attributes\":{\"callback\":null},\"id\":\"18ff0392-403c-4f89-810c-bd7331f00acc\",\"type\":\"DataRange1d\"},{\"attributes\":{\"active_drag\":\"auto\",\"active_inspect\":\"auto\",\"active_scroll\":\"auto\",\"active_tap\":\"auto\",\"tools\":[{\"id\":\"c19d3ca7-267e-4158-a0ac-77e46d3e0c82\",\"type\":\"PanTool\"},{\"id\":\"f974a458-4fba-4609-acb0-1112a864c8df\",\"type\":\"WheelZoomTool\"},{\"id\":\"07bdb80f-5e21-4109-9ee9-6f3272323775\",\"type\":\"BoxZoomTool\"},{\"id\":\"49638106-f625-4cf6-8d07-8329f8c943b2\",\"type\":\"SaveTool\"},{\"id\":\"17ddc15f-e768-4b55-be3c-4cd1740ee0a7\",\"type\":\"ResetTool\"},{\"id\":\"b2f8a326-1393-48c8-b711-f992e39210fe\",\"type\":\"HelpTool\"}]},\"id\":\"602b1b8e-2cbc-48f6-8cb4-74667c5df417\",\"type\":\"Toolbar\"},{\"attributes\":{},\"id\":\"c19d3ca7-267e-4158-a0ac-77e46d3e0c82\",\"type\":\"PanTool\"}],\"root_ids\":[\"10bb1254-edd0-453f-9710-99ffbf12066b\"]},\"title\":\"Bokeh Application\",\"version\":\"0.12.11\"}};\n",
       "    var render_items = [{\"docid\":\"516c0bff-6301-4906-ad65-c3d32347c424\",\"elementid\":\"fa28af3f-e62f-4e6b-8f98-85b0fccaf1e5\",\"modelid\":\"10bb1254-edd0-453f-9710-99ffbf12066b\"}];\n",
       "    root.Bokeh.embed.embed_items(docs_json, render_items);\n",
       "  }\n",
       "  if (root.Bokeh !== undefined) {\n",
       "    embed_document(root);\n",
       "  } else {\n",
       "    var attempts = 0;\n",
       "    var timer = setInterval(function(root) {\n",
       "      if (root.Bokeh !== undefined) {\n",
       "        embed_document(root);\n",
       "        clearInterval(timer);\n",
       "      }\n",
       "      attempts++;\n",
       "      if (attempts > 100) {\n",
       "        console.log(\"Bokeh: ERROR: Unable to embed document because BokehJS library is missing\")\n",
       "        clearInterval(timer);\n",
       "      }\n",
       "    }, 10, root)\n",
       "  }\n",
       "})(window);"
      ],
      "application/vnd.bokehjs_exec.v0+json": ""
     },
     "metadata": {
      "application/vnd.bokehjs_exec.v0+json": {
       "id": "10bb1254-edd0-453f-9710-99ffbf12066b"
      }
     },
     "output_type": "display_data"
    }
   ],
   "source": [
    "show(p)"
   ]
  },
  {
   "cell_type": "code",
   "execution_count": 202,
   "metadata": {},
   "outputs": [
    {
     "data": {
      "image/png": "[encoded data removed]",
      "text/plain": [
       "<matplotlib.figure.Figure at 0x7f180fbeaa20>"
      ]
     },
     "metadata": {},
     "output_type": "display_data"
    }
   ],
   "source": [
    "import numpy as np\n",
    "import matplotlib.pyplot as plt\n",
    "plt.style.use(['ggplot'])\n",
    "plt.figure(figsize=(10,8))\n",
    "# Visualising the scatter plot between mobile penetrations and Agricultural_workers\n",
    "y = data2['Households_with_Telephone_Mobile_Phone_Mobile_only'].values\n",
    "x = data2['Agricultural_Workers'].values\n",
    "#plt = figure(title=\"Mobile penetration among agricultural workers\",toolbar_location=None)\n",
    "#plt.grid.grid_line_color = None\n",
    "plt.scatter(x, y,alpha=0.8)\n",
    "plt.show()"
   ]
  },
  {
   "cell_type": "code",
   "execution_count": 203,
   "metadata": {},
   "outputs": [
    {
     "data": {
      "image/png": "[encoded data removed]",
      "text/plain": [
       "<matplotlib.figure.Figure at 0x7f180b3bdcc0>"
      ]
     },
     "metadata": {},
     "output_type": "display_data"
    }
   ],
   "source": [
    "import numpy as np\n",
    "import matplotlib.pyplot as plt\n",
    "plt.style.use(['ggplot'])\n",
    "plt.figure(figsize=(10,8))\n",
    "# Visualising the scatter plot between mobile penetrations and Agricultural_workers\n",
    "y = data2['Households_with_Telephone_Mobile_Phone_Mobile_only'].values\n",
    "x = data2['Agricultural_Workers'].values\n",
    "#plt = figure(title=\"Mobile penetration among agricultural workers\",toolbar_location=None)\n",
    "#plt.grid.grid_line_color = None\n",
    "plt.scatter(np.log(x+10),np.log(y),alpha=0.8)\n",
    "plt.show()"
   ]
  },
  {
   "cell_type": "code",
   "execution_count": 204,
   "metadata": {},
   "outputs": [
    {
     "data": {
      "text/plain": [
       "662"
      ]
     },
     "execution_count": 204,
     "metadata": {},
     "output_type": "execute_result"
    }
   ],
   "source": [
    "min(y)"
   ]
  },
  {
   "cell_type": "code",
   "execution_count": 205,
   "metadata": {},
   "outputs": [
    {
     "data": {
      "text/plain": [
       "0"
      ]
     },
     "execution_count": 205,
     "metadata": {},
     "output_type": "execute_result"
    }
   ],
   "source": [
    "min(x)"
   ]
  },
  {
   "cell_type": "code",
   "execution_count": 206,
   "metadata": {},
   "outputs": [
    {
     "data": {
      "text/plain": [
       "225551.32656250001"
      ]
     },
     "execution_count": 206,
     "metadata": {},
     "output_type": "execute_result"
    }
   ],
   "source": [
    "data['Agricultural_Workers'].mean()"
   ]
  },
  {
   "cell_type": "code",
   "execution_count": 207,
   "metadata": {},
   "outputs": [
    {
     "data": {
      "text/plain": [
       "586          0\n",
       "635         82\n",
       "256        106\n",
       "259        181\n",
       "637        242\n",
       "93         275\n",
       "493        291\n",
       "494        481\n",
       "24         572\n",
       "94         601\n",
       "251        804\n",
       "287        957\n",
       "246       1063\n",
       "268       1259\n",
       "284       1284\n",
       "267       1309\n",
       "249       1384\n",
       "244       1581\n",
       "2         1645\n",
       "54        1687\n",
       "245       1705\n",
       "90        1791\n",
       "253       1811\n",
       "248       1846\n",
       "247       1859\n",
       "638       1915\n",
       "272       1924\n",
       "254       1968\n",
       "269       2198\n",
       "240       2262\n",
       "        ...   \n",
       "344     702304\n",
       "409     708993\n",
       "220     721629\n",
       "515     730228\n",
       "509     739718\n",
       "210     745015\n",
       "553     748093\n",
       "533     756859\n",
       "539     758092\n",
       "215     769001\n",
       "235     783505\n",
       "540     804537\n",
       "342     806562\n",
       "606     832213\n",
       "332     842294\n",
       "538     863131\n",
       "552     879537\n",
       "548     889218\n",
       "537     931084\n",
       "498     937174\n",
       "206     940642\n",
       "334     973182\n",
       "202     998833\n",
       "546    1006976\n",
       "551    1037302\n",
       "203    1057417\n",
       "545    1061787\n",
       "343    1105201\n",
       "544    1122046\n",
       "547    1227956\n",
       "Name: Agricultural_Workers, Length: 640, dtype: int64"
      ]
     },
     "execution_count": 207,
     "metadata": {},
     "output_type": "execute_result"
    }
   ],
   "source": [
    "data['Agricultural_Workers'].sort_values()"
   ]
  },
  {
   "cell_type": "code",
   "execution_count": 208,
   "metadata": {},
   "outputs": [
    {
     "data": {
      "text/plain": [
       "4977"
      ]
     },
     "execution_count": 208,
     "metadata": {},
     "output_type": "execute_result"
    }
   ],
   "source": [
    "data['Households_with_Telephone_Mobile_Phone_Mobile_only'][586]"
   ]
  },
  {
   "cell_type": "code",
   "execution_count": 209,
   "metadata": {},
   "outputs": [
    {
     "data": {
      "text/plain": [
       "1609899"
      ]
     },
     "execution_count": 209,
     "metadata": {},
     "output_type": "execute_result"
    }
   ],
   "source": [
    "data['Households_with_Telephone_Mobile_Phone_Mobile_only'].max()"
   ]
  },
  {
   "cell_type": "code",
   "execution_count": 210,
   "metadata": {},
   "outputs": [
    {
     "data": {
      "text/plain": [
       "1227956"
      ]
     },
     "execution_count": 210,
     "metadata": {},
     "output_type": "execute_result"
    }
   ],
   "source": [
    "data['Agricultural_Workers'].max()"
   ]
  },
  {
   "cell_type": "code",
   "execution_count": 211,
   "metadata": {},
   "outputs": [
    {
     "data": {
      "text/plain": [
       "547"
      ]
     },
     "execution_count": 211,
     "metadata": {},
     "output_type": "execute_result"
    }
   ],
   "source": [
    "data['Agricultural_Workers'].idxmax()"
   ]
  },
  {
   "cell_type": "code",
   "execution_count": 212,
   "metadata": {},
   "outputs": [
    {
     "data": {
      "text/plain": [
       "571"
      ]
     },
     "execution_count": 212,
     "metadata": {},
     "output_type": "execute_result"
    }
   ],
   "source": [
    "data['Households_with_Telephone_Mobile_Phone_Mobile_only'].idxmax()"
   ]
  },
  {
   "cell_type": "code",
   "execution_count": 213,
   "metadata": {},
   "outputs": [
    {
     "data": {
      "text/plain": [
       "97914"
      ]
     },
     "execution_count": 213,
     "metadata": {},
     "output_type": "execute_result"
    }
   ],
   "source": [
    "data['Agricultural_Workers'][571]"
   ]
  },
  {
   "cell_type": "code",
   "execution_count": 214,
   "metadata": {},
   "outputs": [
    {
     "data": {
      "text/plain": [
       "2.3025850929940459"
      ]
     },
     "execution_count": 214,
     "metadata": {},
     "output_type": "execute_result"
    }
   ],
   "source": [
    "np.log(10)"
   ]
  },
  {
   "cell_type": "code",
   "execution_count": 215,
   "metadata": {},
   "outputs": [],
   "source": [
    "df = data[['Agricultural_Workers','Households_with_Telephone_Mobile_Phone_Mobile_only']]"
   ]
  },
  {
   "cell_type": "code",
   "execution_count": 216,
   "metadata": {},
   "outputs": [
    {
     "data": {
      "text/html": [
       "<div>\n",
       "<style scoped>\n",
       "    .dataframe tbody tr th:only-of-type {\n",
       "        vertical-align: middle;\n",
       "    }\n",
       "\n",
       "    .dataframe tbody tr th {\n",
       "        vertical-align: top;\n",
       "    }\n",
       "\n",
       "    .dataframe thead th {\n",
       "        text-align: right;\n",
       "    }\n",
       "</style>\n",
       "<table border=\"1\" class=\"dataframe\">\n",
       "  <thead>\n",
       "    <tr style=\"text-align: right;\">\n",
       "      <th></th>\n",
       "      <th>Agricultural_Workers</th>\n",
       "      <th>Households_with_Telephone_Mobile_Phone_Mobile_only</th>\n",
       "    </tr>\n",
       "  </thead>\n",
       "  <tbody>\n",
       "    <tr>\n",
       "      <th>0</th>\n",
       "      <td>56759</td>\n",
       "      <td>53437</td>\n",
       "    </tr>\n",
       "    <tr>\n",
       "      <th>1</th>\n",
       "      <td>36630</td>\n",
       "      <td>65783</td>\n",
       "    </tr>\n",
       "    <tr>\n",
       "      <th>2</th>\n",
       "      <td>1645</td>\n",
       "      <td>6331</td>\n",
       "    </tr>\n",
       "    <tr>\n",
       "      <th>3</th>\n",
       "      <td>3763</td>\n",
       "      <td>7733</td>\n",
       "    </tr>\n",
       "    <tr>\n",
       "      <th>4</th>\n",
       "      <td>31583</td>\n",
       "      <td>31773</td>\n",
       "    </tr>\n",
       "  </tbody>\n",
       "</table>\n",
       "</div>"
      ],
      "text/plain": [
       "   Agricultural_Workers  Households_with_Telephone_Mobile_Phone_Mobile_only\n",
       "0                 56759                                              53437 \n",
       "1                 36630                                              65783 \n",
       "2                  1645                                               6331 \n",
       "3                  3763                                               7733 \n",
       "4                 31583                                              31773 "
      ]
     },
     "execution_count": 216,
     "metadata": {},
     "output_type": "execute_result"
    }
   ],
   "source": [
    "df.head()"
   ]
  },
  {
   "cell_type": "code",
   "execution_count": 217,
   "metadata": {},
   "outputs": [
    {
     "name": "stderr",
     "output_type": "stream",
     "text": [
      "/home/bhumihar/anaconda3/envs/geopandas/lib/python3.6/site-packages/pandas/core/frame.py:3027: SettingWithCopyWarning: \n",
      "A value is trying to be set on a copy of a slice from a DataFrame\n",
      "\n",
      "See the caveats in the documentation: http://pandas.pydata.org/pandas-docs/stable/indexing.html#indexing-view-versus-copy\n",
      "  return super(DataFrame, self).rename(**kwargs)\n"
     ]
    }
   ],
   "source": [
    "df.rename(columns={'Agricultural_Workers':'Worker','Households_with_Telephone_Mobile_Phone_Mobile_only':'Mobile'},inplace=True)"
   ]
  },
  {
   "cell_type": "code",
   "execution_count": 218,
   "metadata": {},
   "outputs": [
    {
     "data": {
      "text/html": [
       "<div>\n",
       "<style scoped>\n",
       "    .dataframe tbody tr th:only-of-type {\n",
       "        vertical-align: middle;\n",
       "    }\n",
       "\n",
       "    .dataframe tbody tr th {\n",
       "        vertical-align: top;\n",
       "    }\n",
       "\n",
       "    .dataframe thead th {\n",
       "        text-align: right;\n",
       "    }\n",
       "</style>\n",
       "<table border=\"1\" class=\"dataframe\">\n",
       "  <thead>\n",
       "    <tr style=\"text-align: right;\">\n",
       "      <th></th>\n",
       "      <th>Worker</th>\n",
       "      <th>Mobile</th>\n",
       "    </tr>\n",
       "  </thead>\n",
       "  <tbody>\n",
       "    <tr>\n",
       "      <th>0</th>\n",
       "      <td>56759</td>\n",
       "      <td>53437</td>\n",
       "    </tr>\n",
       "    <tr>\n",
       "      <th>1</th>\n",
       "      <td>36630</td>\n",
       "      <td>65783</td>\n",
       "    </tr>\n",
       "    <tr>\n",
       "      <th>2</th>\n",
       "      <td>1645</td>\n",
       "      <td>6331</td>\n",
       "    </tr>\n",
       "    <tr>\n",
       "      <th>3</th>\n",
       "      <td>3763</td>\n",
       "      <td>7733</td>\n",
       "    </tr>\n",
       "    <tr>\n",
       "      <th>4</th>\n",
       "      <td>31583</td>\n",
       "      <td>31773</td>\n",
       "    </tr>\n",
       "  </tbody>\n",
       "</table>\n",
       "</div>"
      ],
      "text/plain": [
       "   Worker  Mobile\n",
       "0   56759   53437\n",
       "1   36630   65783\n",
       "2    1645    6331\n",
       "3    3763    7733\n",
       "4   31583   31773"
      ]
     },
     "execution_count": 218,
     "metadata": {},
     "output_type": "execute_result"
    }
   ],
   "source": [
    "df.head()"
   ]
  },
  {
   "cell_type": "code",
   "execution_count": 219,
   "metadata": {},
   "outputs": [
    {
     "data": {
      "text/html": [
       "<div>\n",
       "<style scoped>\n",
       "    .dataframe tbody tr th:only-of-type {\n",
       "        vertical-align: middle;\n",
       "    }\n",
       "\n",
       "    .dataframe tbody tr th {\n",
       "        vertical-align: top;\n",
       "    }\n",
       "\n",
       "    .dataframe thead th {\n",
       "        text-align: right;\n",
       "    }\n",
       "</style>\n",
       "<table border=\"1\" class=\"dataframe\">\n",
       "  <thead>\n",
       "    <tr style=\"text-align: right;\">\n",
       "      <th></th>\n",
       "      <th>Worker</th>\n",
       "      <th>Mobile</th>\n",
       "    </tr>\n",
       "  </thead>\n",
       "  <tbody>\n",
       "    <tr>\n",
       "      <th>586</th>\n",
       "      <td>0</td>\n",
       "      <td>4977</td>\n",
       "    </tr>\n",
       "    <tr>\n",
       "      <th>635</th>\n",
       "      <td>82</td>\n",
       "      <td>2954</td>\n",
       "    </tr>\n",
       "    <tr>\n",
       "      <th>256</th>\n",
       "      <td>106</td>\n",
       "      <td>662</td>\n",
       "    </tr>\n",
       "    <tr>\n",
       "      <th>259</th>\n",
       "      <td>181</td>\n",
       "      <td>1027</td>\n",
       "    </tr>\n",
       "    <tr>\n",
       "      <th>637</th>\n",
       "      <td>242</td>\n",
       "      <td>6238</td>\n",
       "    </tr>\n",
       "  </tbody>\n",
       "</table>\n",
       "</div>"
      ],
      "text/plain": [
       "     Worker  Mobile\n",
       "586       0    4977\n",
       "635      82    2954\n",
       "256     106     662\n",
       "259     181    1027\n",
       "637     242    6238"
      ]
     },
     "execution_count": 219,
     "metadata": {},
     "output_type": "execute_result"
    }
   ],
   "source": [
    "df.sort_values(['Worker'],ascending=True).head()"
   ]
  },
  {
   "cell_type": "code",
   "execution_count": 220,
   "metadata": {},
   "outputs": [
    {
     "data": {
      "text/plain": [
       "count    6.400000e+02\n",
       "mean     2.255513e+05\n",
       "std      2.216222e+05\n",
       "min      0.000000e+00\n",
       "25%      5.284175e+04\n",
       "50%      1.645300e+05\n",
       "75%      3.258982e+05\n",
       "max      1.227956e+06\n",
       "Name: Worker, dtype: float64"
      ]
     },
     "execution_count": 220,
     "metadata": {},
     "output_type": "execute_result"
    }
   ],
   "source": [
    "df['Worker'].describe()"
   ]
  },
  {
   "cell_type": "code",
   "execution_count": 221,
   "metadata": {},
   "outputs": [
    {
     "data": {
      "text/plain": [
       "1227956"
      ]
     },
     "execution_count": 221,
     "metadata": {},
     "output_type": "execute_result"
    }
   ],
   "source": [
    "max(df['Worker'])"
   ]
  },
  {
   "cell_type": "code",
   "execution_count": 222,
   "metadata": {},
   "outputs": [
    {
     "data": {
      "text/plain": [
       "[JAMMU & KASHMIR, HIMACHAL PRADESH, PUNJAB, CHANDIGARH, UTTARAKHAND, ..., LAKSHADWEEP, KERALA, TAMIL NADU, PUDUCHERRY, ANDAMAN & NICOBAR ISLANDS]\n",
       "Length: 35\n",
       "Categories (35, object): [JAMMU & KASHMIR, HIMACHAL PRADESH, PUNJAB, CHANDIGARH, ..., KERALA, TAMIL NADU, PUDUCHERRY, ANDAMAN & NICOBAR ISLANDS]"
      ]
     },
     "execution_count": 222,
     "metadata": {},
     "output_type": "execute_result"
    }
   ],
   "source": [
    "data['State name'].unique()"
   ]
  },
  {
   "cell_type": "code",
   "execution_count": 223,
   "metadata": {
    "collapsed": true
   },
   "outputs": [],
   "source": [
    "df_bihar = data[data['State name']=='BIHAR']"
   ]
  },
  {
   "cell_type": "code",
   "execution_count": 224,
   "metadata": {},
   "outputs": [
    {
     "data": {
      "text/html": [
       "<div>\n",
       "<style scoped>\n",
       "    .dataframe tbody tr th:only-of-type {\n",
       "        vertical-align: middle;\n",
       "    }\n",
       "\n",
       "    .dataframe tbody tr th {\n",
       "        vertical-align: top;\n",
       "    }\n",
       "\n",
       "    .dataframe thead th {\n",
       "        text-align: right;\n",
       "    }\n",
       "</style>\n",
       "<table border=\"1\" class=\"dataframe\">\n",
       "  <thead>\n",
       "    <tr style=\"text-align: right;\">\n",
       "      <th></th>\n",
       "      <th>District code</th>\n",
       "      <th>State name</th>\n",
       "      <th>District name</th>\n",
       "      <th>Population</th>\n",
       "      <th>Male</th>\n",
       "      <th>Female</th>\n",
       "      <th>Literate</th>\n",
       "      <th>Male_Literate</th>\n",
       "      <th>Female_Literate</th>\n",
       "      <th>SC</th>\n",
       "      <th>...</th>\n",
       "      <th>Power_Parity_Rs_90000_150000</th>\n",
       "      <th>Power_Parity_Rs_45000_150000</th>\n",
       "      <th>Power_Parity_Rs_150000_240000</th>\n",
       "      <th>Power_Parity_Rs_240000_330000</th>\n",
       "      <th>Power_Parity_Rs_150000_330000</th>\n",
       "      <th>Power_Parity_Rs_330000_425000</th>\n",
       "      <th>Power_Parity_Rs_425000_545000</th>\n",
       "      <th>Power_Parity_Rs_330000_545000</th>\n",
       "      <th>Power_Parity_Above_Rs_545000</th>\n",
       "      <th>Total_Power_Parity</th>\n",
       "    </tr>\n",
       "  </thead>\n",
       "  <tbody>\n",
       "    <tr>\n",
       "      <th>202</th>\n",
       "      <td>203</td>\n",
       "      <td>BIHAR</td>\n",
       "      <td>Pashchim Champaran</td>\n",
       "      <td>3935042</td>\n",
       "      <td>2061110</td>\n",
       "      <td>1873932</td>\n",
       "      <td>1759481</td>\n",
       "      <td>1091226</td>\n",
       "      <td>668255</td>\n",
       "      <td>553944</td>\n",
       "      <td>...</td>\n",
       "      <td>621</td>\n",
       "      <td>1968</td>\n",
       "      <td>138</td>\n",
       "      <td>21</td>\n",
       "      <td>159</td>\n",
       "      <td>30</td>\n",
       "      <td>49</td>\n",
       "      <td>79</td>\n",
       "      <td>40</td>\n",
       "      <td>3181</td>\n",
       "    </tr>\n",
       "    <tr>\n",
       "      <th>203</th>\n",
       "      <td>204</td>\n",
       "      <td>BIHAR</td>\n",
       "      <td>Purba Champaran</td>\n",
       "      <td>5099371</td>\n",
       "      <td>2681209</td>\n",
       "      <td>2418162</td>\n",
       "      <td>2276957</td>\n",
       "      <td>1407603</td>\n",
       "      <td>869354</td>\n",
       "      <td>649726</td>\n",
       "      <td>...</td>\n",
       "      <td>797</td>\n",
       "      <td>2551</td>\n",
       "      <td>223</td>\n",
       "      <td>18</td>\n",
       "      <td>241</td>\n",
       "      <td>25</td>\n",
       "      <td>40</td>\n",
       "      <td>65</td>\n",
       "      <td>47</td>\n",
       "      <td>4098</td>\n",
       "    </tr>\n",
       "    <tr>\n",
       "      <th>204</th>\n",
       "      <td>205</td>\n",
       "      <td>BIHAR</td>\n",
       "      <td>Sheohar</td>\n",
       "      <td>656246</td>\n",
       "      <td>346673</td>\n",
       "      <td>309573</td>\n",
       "      <td>283698</td>\n",
       "      <td>171645</td>\n",
       "      <td>112053</td>\n",
       "      <td>96655</td>\n",
       "      <td>...</td>\n",
       "      <td>90</td>\n",
       "      <td>301</td>\n",
       "      <td>4</td>\n",
       "      <td>1</td>\n",
       "      <td>5</td>\n",
       "      <td>2</td>\n",
       "      <td>3</td>\n",
       "      <td>5</td>\n",
       "      <td>4</td>\n",
       "      <td>489</td>\n",
       "    </tr>\n",
       "    <tr>\n",
       "      <th>205</th>\n",
       "      <td>206</td>\n",
       "      <td>BIHAR</td>\n",
       "      <td>Sitamarhi</td>\n",
       "      <td>3423574</td>\n",
       "      <td>1803252</td>\n",
       "      <td>1620322</td>\n",
       "      <td>1436794</td>\n",
       "      <td>885188</td>\n",
       "      <td>551606</td>\n",
       "      <td>405714</td>\n",
       "      <td>...</td>\n",
       "      <td>520</td>\n",
       "      <td>1670</td>\n",
       "      <td>69</td>\n",
       "      <td>10</td>\n",
       "      <td>79</td>\n",
       "      <td>14</td>\n",
       "      <td>22</td>\n",
       "      <td>36</td>\n",
       "      <td>29</td>\n",
       "      <td>2679</td>\n",
       "    </tr>\n",
       "    <tr>\n",
       "      <th>206</th>\n",
       "      <td>207</td>\n",
       "      <td>BIHAR</td>\n",
       "      <td>Madhubani</td>\n",
       "      <td>4487379</td>\n",
       "      <td>2329313</td>\n",
       "      <td>2158066</td>\n",
       "      <td>2155338</td>\n",
       "      <td>1340085</td>\n",
       "      <td>815253</td>\n",
       "      <td>587158</td>\n",
       "      <td>...</td>\n",
       "      <td>668</td>\n",
       "      <td>2203</td>\n",
       "      <td>165</td>\n",
       "      <td>7</td>\n",
       "      <td>172</td>\n",
       "      <td>10</td>\n",
       "      <td>17</td>\n",
       "      <td>27</td>\n",
       "      <td>26</td>\n",
       "      <td>3520</td>\n",
       "    </tr>\n",
       "  </tbody>\n",
       "</table>\n",
       "<p>5 rows × 118 columns</p>\n",
       "</div>"
      ],
      "text/plain": [
       "     District code State name       District name  Population     Male  \\\n",
       "202            203      BIHAR  Pashchim Champaran     3935042  2061110   \n",
       "203            204      BIHAR     Purba Champaran     5099371  2681209   \n",
       "204            205      BIHAR             Sheohar      656246   346673   \n",
       "205            206      BIHAR           Sitamarhi     3423574  1803252   \n",
       "206            207      BIHAR           Madhubani     4487379  2329313   \n",
       "\n",
       "      Female  Literate  Male_Literate  Female_Literate      SC  \\\n",
       "202  1873932   1759481        1091226           668255  553944   \n",
       "203  2418162   2276957        1407603           869354  649726   \n",
       "204   309573    283698         171645           112053   96655   \n",
       "205  1620322   1436794         885188           551606  405714   \n",
       "206  2158066   2155338        1340085           815253  587158   \n",
       "\n",
       "            ...          Power_Parity_Rs_90000_150000  \\\n",
       "202         ...                                   621   \n",
       "203         ...                                   797   \n",
       "204         ...                                    90   \n",
       "205         ...                                   520   \n",
       "206         ...                                   668   \n",
       "\n",
       "     Power_Parity_Rs_45000_150000  Power_Parity_Rs_150000_240000  \\\n",
       "202                          1968                            138   \n",
       "203                          2551                            223   \n",
       "204                           301                              4   \n",
       "205                          1670                             69   \n",
       "206                          2203                            165   \n",
       "\n",
       "     Power_Parity_Rs_240000_330000  Power_Parity_Rs_150000_330000  \\\n",
       "202                             21                            159   \n",
       "203                             18                            241   \n",
       "204                              1                              5   \n",
       "205                             10                             79   \n",
       "206                              7                            172   \n",
       "\n",
       "     Power_Parity_Rs_330000_425000  Power_Parity_Rs_425000_545000  \\\n",
       "202                             30                             49   \n",
       "203                             25                             40   \n",
       "204                              2                              3   \n",
       "205                             14                             22   \n",
       "206                             10                             17   \n",
       "\n",
       "     Power_Parity_Rs_330000_545000  Power_Parity_Above_Rs_545000  \\\n",
       "202                             79                            40   \n",
       "203                             65                            47   \n",
       "204                              5                             4   \n",
       "205                             36                            29   \n",
       "206                             27                            26   \n",
       "\n",
       "     Total_Power_Parity  \n",
       "202                3181  \n",
       "203                4098  \n",
       "204                 489  \n",
       "205                2679  \n",
       "206                3520  \n",
       "\n",
       "[5 rows x 118 columns]"
      ]
     },
     "execution_count": 224,
     "metadata": {},
     "output_type": "execute_result"
    }
   ],
   "source": [
    "df_bihar.head()"
   ]
  },
  {
   "cell_type": "code",
   "execution_count": 225,
   "metadata": {},
   "outputs": [
    {
     "name": "stderr",
     "output_type": "stream",
     "text": [
      "/home/bhumihar/anaconda3/envs/geopandas/lib/python3.6/site-packages/pandas/core/frame.py:3027: SettingWithCopyWarning: \n",
      "A value is trying to be set on a copy of a slice from a DataFrame\n",
      "\n",
      "See the caveats in the documentation: http://pandas.pydata.org/pandas-docs/stable/indexing.html#indexing-view-versus-copy\n",
      "  return super(DataFrame, self).rename(**kwargs)\n"
     ]
    }
   ],
   "source": [
    "df = df_bihar[['District name','Agricultural_Workers','Households_with_Telephone_Mobile_Phone_Mobile_only']]\n",
    "df.rename(columns={'Agricultural_Workers':'Worker','Households_with_Telephone_Mobile_Phone_Mobile_only':'Mobile'},inplace=True)"
   ]
  },
  {
   "cell_type": "code",
   "execution_count": 226,
   "metadata": {},
   "outputs": [
    {
     "data": {
      "text/html": [
       "<div>\n",
       "<style scoped>\n",
       "    .dataframe tbody tr th:only-of-type {\n",
       "        vertical-align: middle;\n",
       "    }\n",
       "\n",
       "    .dataframe tbody tr th {\n",
       "        vertical-align: top;\n",
       "    }\n",
       "\n",
       "    .dataframe thead th {\n",
       "        text-align: right;\n",
       "    }\n",
       "</style>\n",
       "<table border=\"1\" class=\"dataframe\">\n",
       "  <thead>\n",
       "    <tr style=\"text-align: right;\">\n",
       "      <th></th>\n",
       "      <th>District name</th>\n",
       "      <th>Worker</th>\n",
       "      <th>Mobile</th>\n",
       "    </tr>\n",
       "  </thead>\n",
       "  <tbody>\n",
       "    <tr>\n",
       "      <th>202</th>\n",
       "      <td>Pashchim Champaran</td>\n",
       "      <td>998833</td>\n",
       "      <td>346729</td>\n",
       "    </tr>\n",
       "    <tr>\n",
       "      <th>203</th>\n",
       "      <td>Purba Champaran</td>\n",
       "      <td>1057417</td>\n",
       "      <td>546993</td>\n",
       "    </tr>\n",
       "    <tr>\n",
       "      <th>204</th>\n",
       "      <td>Sheohar</td>\n",
       "      <td>136334</td>\n",
       "      <td>79360</td>\n",
       "    </tr>\n",
       "    <tr>\n",
       "      <th>205</th>\n",
       "      <td>Sitamarhi</td>\n",
       "      <td>635907</td>\n",
       "      <td>318780</td>\n",
       "    </tr>\n",
       "    <tr>\n",
       "      <th>206</th>\n",
       "      <td>Madhubani</td>\n",
       "      <td>940642</td>\n",
       "      <td>452569</td>\n",
       "    </tr>\n",
       "  </tbody>\n",
       "</table>\n",
       "</div>"
      ],
      "text/plain": [
       "          District name   Worker  Mobile\n",
       "202  Pashchim Champaran   998833  346729\n",
       "203     Purba Champaran  1057417  546993\n",
       "204             Sheohar   136334   79360\n",
       "205           Sitamarhi   635907  318780\n",
       "206           Madhubani   940642  452569"
      ]
     },
     "execution_count": 226,
     "metadata": {},
     "output_type": "execute_result"
    }
   ],
   "source": [
    "df.head()"
   ]
  },
  {
   "cell_type": "code",
   "execution_count": 227,
   "metadata": {},
   "outputs": [
    {
     "data": {
      "text/plain": [
       "District name    38\n",
       "Worker           38\n",
       "Mobile           38\n",
       "dtype: int64"
      ]
     },
     "execution_count": 227,
     "metadata": {},
     "output_type": "execute_result"
    }
   ],
   "source": [
    "df.count()"
   ]
  },
  {
   "cell_type": "code",
   "execution_count": 228,
   "metadata": {},
   "outputs": [],
   "source": [
    "df1 = df.sort_values('Worker',ascending=True)"
   ]
  },
  {
   "cell_type": "code",
   "execution_count": 229,
   "metadata": {},
   "outputs": [
    {
     "data": {
      "text/html": [
       "<div>\n",
       "<style scoped>\n",
       "    .dataframe tbody tr th:only-of-type {\n",
       "        vertical-align: middle;\n",
       "    }\n",
       "\n",
       "    .dataframe tbody tr th {\n",
       "        vertical-align: top;\n",
       "    }\n",
       "\n",
       "    .dataframe thead th {\n",
       "        text-align: right;\n",
       "    }\n",
       "</style>\n",
       "<table border=\"1\" class=\"dataframe\">\n",
       "  <thead>\n",
       "    <tr style=\"text-align: right;\">\n",
       "      <th></th>\n",
       "      <th>District name</th>\n",
       "      <th>Worker</th>\n",
       "      <th>Mobile</th>\n",
       "    </tr>\n",
       "  </thead>\n",
       "  <tbody>\n",
       "    <tr>\n",
       "      <th>227</th>\n",
       "      <td>Sheikhpura</td>\n",
       "      <td>109696</td>\n",
       "      <td>57043</td>\n",
       "    </tr>\n",
       "    <tr>\n",
       "      <th>204</th>\n",
       "      <td>Sheohar</td>\n",
       "      <td>136334</td>\n",
       "      <td>79360</td>\n",
       "    </tr>\n",
       "    <tr>\n",
       "      <th>239</th>\n",
       "      <td>Arwal</td>\n",
       "      <td>144698</td>\n",
       "      <td>60636</td>\n",
       "    </tr>\n",
       "    <tr>\n",
       "      <th>226</th>\n",
       "      <td>Lakhisarai</td>\n",
       "      <td>159970</td>\n",
       "      <td>90531</td>\n",
       "    </tr>\n",
       "    <tr>\n",
       "      <th>238</th>\n",
       "      <td>Jehanabad</td>\n",
       "      <td>179519</td>\n",
       "      <td>94340</td>\n",
       "    </tr>\n",
       "  </tbody>\n",
       "</table>\n",
       "</div>"
      ],
      "text/plain": [
       "    District name  Worker  Mobile\n",
       "227    Sheikhpura  109696   57043\n",
       "204       Sheohar  136334   79360\n",
       "239         Arwal  144698   60636\n",
       "226    Lakhisarai  159970   90531\n",
       "238     Jehanabad  179519   94340"
      ]
     },
     "execution_count": 229,
     "metadata": {},
     "output_type": "execute_result"
    }
   ],
   "source": [
    "df1.head()"
   ]
  },
  {
   "cell_type": "code",
   "execution_count": 230,
   "metadata": {
    "collapsed": true
   },
   "outputs": [],
   "source": [
    "df1 = pd.DataFrame(df,index=None)"
   ]
  },
  {
   "cell_type": "code",
   "execution_count": 231,
   "metadata": {},
   "outputs": [
    {
     "data": {
      "text/html": [
       "<div>\n",
       "<style scoped>\n",
       "    .dataframe tbody tr th:only-of-type {\n",
       "        vertical-align: middle;\n",
       "    }\n",
       "\n",
       "    .dataframe tbody tr th {\n",
       "        vertical-align: top;\n",
       "    }\n",
       "\n",
       "    .dataframe thead th {\n",
       "        text-align: right;\n",
       "    }\n",
       "</style>\n",
       "<table border=\"1\" class=\"dataframe\">\n",
       "  <thead>\n",
       "    <tr style=\"text-align: right;\">\n",
       "      <th></th>\n",
       "      <th>District name</th>\n",
       "      <th>Worker</th>\n",
       "      <th>Mobile</th>\n",
       "    </tr>\n",
       "  </thead>\n",
       "  <tbody>\n",
       "    <tr>\n",
       "      <th>202</th>\n",
       "      <td>Pashchim Champaran</td>\n",
       "      <td>998833</td>\n",
       "      <td>346729</td>\n",
       "    </tr>\n",
       "    <tr>\n",
       "      <th>203</th>\n",
       "      <td>Purba Champaran</td>\n",
       "      <td>1057417</td>\n",
       "      <td>546993</td>\n",
       "    </tr>\n",
       "    <tr>\n",
       "      <th>204</th>\n",
       "      <td>Sheohar</td>\n",
       "      <td>136334</td>\n",
       "      <td>79360</td>\n",
       "    </tr>\n",
       "    <tr>\n",
       "      <th>205</th>\n",
       "      <td>Sitamarhi</td>\n",
       "      <td>635907</td>\n",
       "      <td>318780</td>\n",
       "    </tr>\n",
       "    <tr>\n",
       "      <th>206</th>\n",
       "      <td>Madhubani</td>\n",
       "      <td>940642</td>\n",
       "      <td>452569</td>\n",
       "    </tr>\n",
       "  </tbody>\n",
       "</table>\n",
       "</div>"
      ],
      "text/plain": [
       "          District name   Worker  Mobile\n",
       "202  Pashchim Champaran   998833  346729\n",
       "203     Purba Champaran  1057417  546993\n",
       "204             Sheohar   136334   79360\n",
       "205           Sitamarhi   635907  318780\n",
       "206           Madhubani   940642  452569"
      ]
     },
     "execution_count": 231,
     "metadata": {},
     "output_type": "execute_result"
    }
   ],
   "source": [
    "df1.head()"
   ]
  },
  {
   "cell_type": "code",
   "execution_count": 232,
   "metadata": {
    "collapsed": true
   },
   "outputs": [],
   "source": [
    "df1.reset_index(inplace=True)"
   ]
  },
  {
   "cell_type": "code",
   "execution_count": 233,
   "metadata": {},
   "outputs": [
    {
     "data": {
      "text/html": [
       "<div>\n",
       "<style scoped>\n",
       "    .dataframe tbody tr th:only-of-type {\n",
       "        vertical-align: middle;\n",
       "    }\n",
       "\n",
       "    .dataframe tbody tr th {\n",
       "        vertical-align: top;\n",
       "    }\n",
       "\n",
       "    .dataframe thead th {\n",
       "        text-align: right;\n",
       "    }\n",
       "</style>\n",
       "<table border=\"1\" class=\"dataframe\">\n",
       "  <thead>\n",
       "    <tr style=\"text-align: right;\">\n",
       "      <th></th>\n",
       "      <th>index</th>\n",
       "      <th>District name</th>\n",
       "      <th>Worker</th>\n",
       "      <th>Mobile</th>\n",
       "    </tr>\n",
       "  </thead>\n",
       "  <tbody>\n",
       "    <tr>\n",
       "      <th>0</th>\n",
       "      <td>202</td>\n",
       "      <td>Pashchim Champaran</td>\n",
       "      <td>998833</td>\n",
       "      <td>346729</td>\n",
       "    </tr>\n",
       "    <tr>\n",
       "      <th>1</th>\n",
       "      <td>203</td>\n",
       "      <td>Purba Champaran</td>\n",
       "      <td>1057417</td>\n",
       "      <td>546993</td>\n",
       "    </tr>\n",
       "    <tr>\n",
       "      <th>2</th>\n",
       "      <td>204</td>\n",
       "      <td>Sheohar</td>\n",
       "      <td>136334</td>\n",
       "      <td>79360</td>\n",
       "    </tr>\n",
       "    <tr>\n",
       "      <th>3</th>\n",
       "      <td>205</td>\n",
       "      <td>Sitamarhi</td>\n",
       "      <td>635907</td>\n",
       "      <td>318780</td>\n",
       "    </tr>\n",
       "    <tr>\n",
       "      <th>4</th>\n",
       "      <td>206</td>\n",
       "      <td>Madhubani</td>\n",
       "      <td>940642</td>\n",
       "      <td>452569</td>\n",
       "    </tr>\n",
       "  </tbody>\n",
       "</table>\n",
       "</div>"
      ],
      "text/plain": [
       "   index       District name   Worker  Mobile\n",
       "0    202  Pashchim Champaran   998833  346729\n",
       "1    203     Purba Champaran  1057417  546993\n",
       "2    204             Sheohar   136334   79360\n",
       "3    205           Sitamarhi   635907  318780\n",
       "4    206           Madhubani   940642  452569"
      ]
     },
     "execution_count": 233,
     "metadata": {},
     "output_type": "execute_result"
    }
   ],
   "source": [
    "df1.head()"
   ]
  },
  {
   "cell_type": "code",
   "execution_count": 234,
   "metadata": {},
   "outputs": [],
   "source": [
    "df2 = df1.sort_values('Worker',ascending=True)"
   ]
  },
  {
   "cell_type": "code",
   "execution_count": 235,
   "metadata": {},
   "outputs": [
    {
     "data": {
      "image/png": "[encoded data removed]",
      "text/plain": [
       "<matplotlib.figure.Figure at 0x7f18113a2160>"
      ]
     },
     "metadata": {},
     "output_type": "display_data"
    }
   ],
   "source": [
    "plt.Figure(figsize=(8,9))\n",
    "plt.scatter(df2['Worker'],df2['Mobile'])\n",
    "plt.show()"
   ]
  },
  {
   "cell_type": "code",
   "execution_count": 236,
   "metadata": {
    "collapsed": true
   },
   "outputs": [],
   "source": [
    "state_list = data['State name'].unique()"
   ]
  },
  {
   "cell_type": "code",
   "execution_count": 237,
   "metadata": {},
   "outputs": [
    {
     "data": {
      "text/plain": [
       "35"
      ]
     },
     "execution_count": 237,
     "metadata": {},
     "output_type": "execute_result"
    }
   ],
   "source": [
    "len(state_list)"
   ]
  },
  {
   "cell_type": "code",
   "execution_count": 238,
   "metadata": {},
   "outputs": [
    {
     "name": "stderr",
     "output_type": "stream",
     "text": [
      "/home/bhumihar/anaconda3/envs/geopandas/lib/python3.6/site-packages/pandas/core/frame.py:3027: SettingWithCopyWarning: \n",
      "A value is trying to be set on a copy of a slice from a DataFrame\n",
      "\n",
      "See the caveats in the documentation: http://pandas.pydata.org/pandas-docs/stable/indexing.html#indexing-view-versus-copy\n",
      "  return super(DataFrame, self).rename(**kwargs)\n"
     ]
    }
   ],
   "source": [
    "df1 = data[data['State name']==state_list[0]]\n",
    "df = df1[['District name','Agricultural_Workers','Households_with_Telephone_Mobile_Phone_Mobile_only']]\n",
    "df.rename(columns={'Agricultural_Workers':'Worker','Households_with_Telephone_Mobile_Phone_Mobile_only':'Mobile'},inplace=True)\n",
    "df.reset_index(inplace=True)"
   ]
  },
  {
   "cell_type": "code",
   "execution_count": 239,
   "metadata": {},
   "outputs": [
    {
     "data": {
      "text/html": [
       "<div>\n",
       "<style scoped>\n",
       "    .dataframe tbody tr th:only-of-type {\n",
       "        vertical-align: middle;\n",
       "    }\n",
       "\n",
       "    .dataframe tbody tr th {\n",
       "        vertical-align: top;\n",
       "    }\n",
       "\n",
       "    .dataframe thead th {\n",
       "        text-align: right;\n",
       "    }\n",
       "</style>\n",
       "<table border=\"1\" class=\"dataframe\">\n",
       "  <thead>\n",
       "    <tr style=\"text-align: right;\">\n",
       "      <th></th>\n",
       "      <th>index</th>\n",
       "      <th>District name</th>\n",
       "      <th>Worker</th>\n",
       "      <th>Mobile</th>\n",
       "    </tr>\n",
       "  </thead>\n",
       "  <tbody>\n",
       "    <tr>\n",
       "      <th>0</th>\n",
       "      <td>0</td>\n",
       "      <td>Kupwara</td>\n",
       "      <td>56759</td>\n",
       "      <td>53437</td>\n",
       "    </tr>\n",
       "    <tr>\n",
       "      <th>1</th>\n",
       "      <td>1</td>\n",
       "      <td>Badgam</td>\n",
       "      <td>36630</td>\n",
       "      <td>65783</td>\n",
       "    </tr>\n",
       "    <tr>\n",
       "      <th>2</th>\n",
       "      <td>2</td>\n",
       "      <td>Leh(Ladakh)</td>\n",
       "      <td>1645</td>\n",
       "      <td>6331</td>\n",
       "    </tr>\n",
       "    <tr>\n",
       "      <th>3</th>\n",
       "      <td>3</td>\n",
       "      <td>Kargil</td>\n",
       "      <td>3763</td>\n",
       "      <td>7733</td>\n",
       "    </tr>\n",
       "    <tr>\n",
       "      <th>4</th>\n",
       "      <td>4</td>\n",
       "      <td>Punch</td>\n",
       "      <td>31583</td>\n",
       "      <td>31773</td>\n",
       "    </tr>\n",
       "  </tbody>\n",
       "</table>\n",
       "</div>"
      ],
      "text/plain": [
       "   index District name  Worker  Mobile\n",
       "0      0       Kupwara   56759   53437\n",
       "1      1        Badgam   36630   65783\n",
       "2      2   Leh(Ladakh)    1645    6331\n",
       "3      3        Kargil    3763    7733\n",
       "4      4         Punch   31583   31773"
      ]
     },
     "execution_count": 239,
     "metadata": {},
     "output_type": "execute_result"
    }
   ],
   "source": [
    "df.head()"
   ]
  },
  {
   "cell_type": "markdown",
   "metadata": {},
   "source": [
    "# For Kashmir Region"
   ]
  },
  {
   "cell_type": "code",
   "execution_count": 240,
   "metadata": {},
   "outputs": [
    {
     "data": {
      "image/png": "[encoded data removed]",
      "text/plain": [
       "<matplotlib.figure.Figure at 0x7f1810637ba8>"
      ]
     },
     "metadata": {},
     "output_type": "display_data"
    }
   ],
   "source": [
    "df2 = df.sort_values('Worker',ascending=True)\n",
    "plt.rcParams['figure.figsize'] = (10, 8)\n",
    "plt.scatter(df2['Worker'],df2['Mobile'])\n",
    "plt.show()"
   ]
  },
  {
   "cell_type": "code",
   "execution_count": 241,
   "metadata": {},
   "outputs": [
    {
     "data": {
      "text/html": [
       "<div>\n",
       "<style scoped>\n",
       "    .dataframe tbody tr th:only-of-type {\n",
       "        vertical-align: middle;\n",
       "    }\n",
       "\n",
       "    .dataframe tbody tr th {\n",
       "        vertical-align: top;\n",
       "    }\n",
       "\n",
       "    .dataframe thead th {\n",
       "        text-align: right;\n",
       "    }\n",
       "</style>\n",
       "<table border=\"1\" class=\"dataframe\">\n",
       "  <thead>\n",
       "    <tr style=\"text-align: right;\">\n",
       "      <th></th>\n",
       "      <th>index</th>\n",
       "      <th>District name</th>\n",
       "      <th>Worker</th>\n",
       "      <th>Mobile</th>\n",
       "    </tr>\n",
       "  </thead>\n",
       "  <tbody>\n",
       "    <tr>\n",
       "      <th>2</th>\n",
       "      <td>2</td>\n",
       "      <td>Leh(Ladakh)</td>\n",
       "      <td>1645</td>\n",
       "      <td>6331</td>\n",
       "    </tr>\n",
       "    <tr>\n",
       "      <th>3</th>\n",
       "      <td>3</td>\n",
       "      <td>Kargil</td>\n",
       "      <td>3763</td>\n",
       "      <td>7733</td>\n",
       "    </tr>\n",
       "    <tr>\n",
       "      <th>19</th>\n",
       "      <td>19</td>\n",
       "      <td>Reasi</td>\n",
       "      <td>4009</td>\n",
       "      <td>26081</td>\n",
       "    </tr>\n",
       "    <tr>\n",
       "      <th>21</th>\n",
       "      <td>21</td>\n",
       "      <td>Samba</td>\n",
       "      <td>6105</td>\n",
       "      <td>43895</td>\n",
       "    </tr>\n",
       "    <tr>\n",
       "      <th>16</th>\n",
       "      <td>16</td>\n",
       "      <td>Ramban</td>\n",
       "      <td>8810</td>\n",
       "      <td>25175</td>\n",
       "    </tr>\n",
       "  </tbody>\n",
       "</table>\n",
       "</div>"
      ],
      "text/plain": [
       "    index District name  Worker  Mobile\n",
       "2       2   Leh(Ladakh)    1645    6331\n",
       "3       3        Kargil    3763    7733\n",
       "19     19         Reasi    4009   26081\n",
       "21     21         Samba    6105   43895\n",
       "16     16        Ramban    8810   25175"
      ]
     },
     "execution_count": 241,
     "metadata": {},
     "output_type": "execute_result"
    }
   ],
   "source": [
    "df2.head()"
   ]
  },
  {
   "cell_type": "code",
   "execution_count": 242,
   "metadata": {},
   "outputs": [
    {
     "data": {
      "text/plain": [
       "0.46967988447055997"
      ]
     },
     "execution_count": 242,
     "metadata": {},
     "output_type": "execute_result"
    }
   ],
   "source": [
    "df2['Worker'].corr(df2['Mobile'])"
   ]
  },
  {
   "cell_type": "markdown",
   "metadata": {},
   "source": [
    "# calculate total number of literate people statewise and plot it on Map"
   ]
  },
  {
   "cell_type": "code",
   "execution_count": 243,
   "metadata": {},
   "outputs": [
    {
     "data": {
      "image/png": "[encoded data removed]",
      "text/plain": [
       "<matplotlib.figure.Figure at 0x7f180d04a278>"
      ]
     },
     "metadata": {},
     "output_type": "display_data"
    }
   ],
   "source": [
    "lit_pop = data.groupby('State name')['Literate'].agg('sum')\n",
    "tot_pop = data.groupby('State name')['Population'].agg('sum')\n",
    "lit_rate = (lit_pop/tot_pop)*100\n",
    "india = gpd.read_file('INDIA.shx')\n",
    "india['lit_rate'] = lit_rate.values\n",
    "india.plot(column = 'lit_rate', figsize=(20,10),cmap='OrRd',legend=True)\n",
    "plt.axis('off')\n",
    "plt.title('Literacy rate across India')\n",
    "plt.show()"
   ]
  },
  {
   "cell_type": "code",
   "execution_count": 244,
   "metadata": {},
   "outputs": [
    {
     "name": "stderr",
     "output_type": "stream",
     "text": [
      "/home/bhumihar/anaconda3/envs/geopandas/lib/python3.6/site-packages/pandas/core/frame.py:3027: SettingWithCopyWarning: \n",
      "A value is trying to be set on a copy of a slice from a DataFrame\n",
      "\n",
      "See the caveats in the documentation: http://pandas.pydata.org/pandas-docs/stable/indexing.html#indexing-view-versus-copy\n",
      "  return super(DataFrame, self).rename(**kwargs)\n"
     ]
    },
    {
     "name": "stdout",
     "output_type": "stream",
     "text": [
      "0 22\n",
      "1 12\n",
      "2 20\n",
      "3 1\n",
      "4 13\n",
      "5 21\n",
      "6 9\n",
      "7 33\n",
      "8 71\n",
      "9 38\n",
      "10 4\n",
      "11 16\n",
      "12 11\n",
      "13 9\n",
      "14 8\n",
      "15 4\n",
      "16 7\n",
      "17 27\n",
      "18 19\n",
      "19 24\n",
      "20 30\n",
      "21 18\n",
      "22 50\n",
      "23 26\n",
      "24 2\n",
      "25 1\n",
      "26 35\n",
      "27 23\n",
      "28 30\n",
      "29 2\n",
      "30 1\n",
      "31 14\n",
      "32 32\n",
      "33 4\n",
      "34 3\n"
     ]
    }
   ],
   "source": [
    "corr_val = []\n",
    "i=0\n",
    "for state in state_list : \n",
    "    df1 = data[data['State name']==state]\n",
    "    df = df1[['District name','Agricultural_Workers','Households_with_Telephone_Mobile_Phone_Mobile_only']]\n",
    "    df.rename(columns={'Agricultural_Workers':'Worker','Households_with_Telephone_Mobile_Phone_Mobile_only':'Mobile'},inplace=True)\n",
    "    df.reset_index(inplace=True)\n",
    "    df2 = df.sort_values('Worker',ascending=True)\n",
    "    print(i,df2.shape[0])\n",
    "    if df2.shape[0] >1:\n",
    "        corr_val.append(df2['Worker'].corr(df2['Mobile']))\n",
    "    else :\n",
    "        corr_val.append(0.5)\n",
    "    i +=1"
   ]
  },
  {
   "cell_type": "code",
   "execution_count": 245,
   "metadata": {},
   "outputs": [
    {
     "name": "stderr",
     "output_type": "stream",
     "text": [
      "/home/bhumihar/anaconda3/envs/geopandas/lib/python3.6/site-packages/pandas/core/frame.py:3027: SettingWithCopyWarning: \n",
      "A value is trying to be set on a copy of a slice from a DataFrame\n",
      "\n",
      "See the caveats in the documentation: http://pandas.pydata.org/pandas-docs/stable/indexing.html#indexing-view-versus-copy\n",
      "  return super(DataFrame, self).rename(**kwargs)\n"
     ]
    },
    {
     "data": {
      "text/plain": [
       "0.93930997910028424"
      ]
     },
     "execution_count": 245,
     "metadata": {},
     "output_type": "execute_result"
    }
   ],
   "source": [
    "df1 = data[data['State name']==state_list[1]]\n",
    "df = df1[['District name','Agricultural_Workers','Households_with_Telephone_Mobile_Phone_Mobile_only']]\n",
    "df.rename(columns={'Agricultural_Workers':'Worker','Households_with_Telephone_Mobile_Phone_Mobile_only':'Mobile'},inplace=True)\n",
    "df.reset_index(inplace=True)\n",
    "df2 = df.sort_values('Worker',ascending=True)\n",
    "df2['Worker'].corr(df2['Mobile'])"
   ]
  },
  {
   "cell_type": "code",
   "execution_count": 246,
   "metadata": {},
   "outputs": [
    {
     "data": {
      "text/html": [
       "<div>\n",
       "<style scoped>\n",
       "    .dataframe tbody tr th:only-of-type {\n",
       "        vertical-align: middle;\n",
       "    }\n",
       "\n",
       "    .dataframe tbody tr th {\n",
       "        vertical-align: top;\n",
       "    }\n",
       "\n",
       "    .dataframe thead th {\n",
       "        text-align: right;\n",
       "    }\n",
       "</style>\n",
       "<table border=\"1\" class=\"dataframe\">\n",
       "  <thead>\n",
       "    <tr style=\"text-align: right;\">\n",
       "      <th></th>\n",
       "      <th>index</th>\n",
       "      <th>District name</th>\n",
       "      <th>Worker</th>\n",
       "      <th>Mobile</th>\n",
       "    </tr>\n",
       "  </thead>\n",
       "  <tbody>\n",
       "    <tr>\n",
       "      <th>2</th>\n",
       "      <td>24</td>\n",
       "      <td>Lahul &amp; Spiti</td>\n",
       "      <td>572</td>\n",
       "      <td>3100</td>\n",
       "    </tr>\n",
       "    <tr>\n",
       "      <th>11</th>\n",
       "      <td>33</td>\n",
       "      <td>Kinnaur</td>\n",
       "      <td>2537</td>\n",
       "      <td>12885</td>\n",
       "    </tr>\n",
       "    <tr>\n",
       "      <th>7</th>\n",
       "      <td>29</td>\n",
       "      <td>Bilaspur</td>\n",
       "      <td>4138</td>\n",
       "      <td>47001</td>\n",
       "    </tr>\n",
       "    <tr>\n",
       "      <th>5</th>\n",
       "      <td>27</td>\n",
       "      <td>Hamirpur</td>\n",
       "      <td>8824</td>\n",
       "      <td>53918</td>\n",
       "    </tr>\n",
       "    <tr>\n",
       "      <th>0</th>\n",
       "      <td>22</td>\n",
       "      <td>Chamba</td>\n",
       "      <td>9193</td>\n",
       "      <td>64850</td>\n",
       "    </tr>\n",
       "  </tbody>\n",
       "</table>\n",
       "</div>"
      ],
      "text/plain": [
       "    index  District name  Worker  Mobile\n",
       "2      24  Lahul & Spiti     572    3100\n",
       "11     33        Kinnaur    2537   12885\n",
       "7      29       Bilaspur    4138   47001\n",
       "5      27       Hamirpur    8824   53918\n",
       "0      22         Chamba    9193   64850"
      ]
     },
     "execution_count": 246,
     "metadata": {},
     "output_type": "execute_result"
    }
   ],
   "source": [
    "df2.head()"
   ]
  },
  {
   "cell_type": "code",
   "execution_count": 247,
   "metadata": {},
   "outputs": [
    {
     "data": {
      "text/html": [
       "<div>\n",
       "<style scoped>\n",
       "    .dataframe tbody tr th:only-of-type {\n",
       "        vertical-align: middle;\n",
       "    }\n",
       "\n",
       "    .dataframe tbody tr th {\n",
       "        vertical-align: top;\n",
       "    }\n",
       "\n",
       "    .dataframe thead th {\n",
       "        text-align: right;\n",
       "    }\n",
       "</style>\n",
       "<table border=\"1\" class=\"dataframe\">\n",
       "  <thead>\n",
       "    <tr style=\"text-align: right;\">\n",
       "      <th></th>\n",
       "      <th>District code</th>\n",
       "      <th>State name</th>\n",
       "      <th>District name</th>\n",
       "      <th>Population</th>\n",
       "      <th>Male</th>\n",
       "      <th>Female</th>\n",
       "      <th>Literate</th>\n",
       "      <th>Male_Literate</th>\n",
       "      <th>Female_Literate</th>\n",
       "      <th>SC</th>\n",
       "      <th>...</th>\n",
       "      <th>Power_Parity_Rs_90000_150000</th>\n",
       "      <th>Power_Parity_Rs_45000_150000</th>\n",
       "      <th>Power_Parity_Rs_150000_240000</th>\n",
       "      <th>Power_Parity_Rs_240000_330000</th>\n",
       "      <th>Power_Parity_Rs_150000_330000</th>\n",
       "      <th>Power_Parity_Rs_330000_425000</th>\n",
       "      <th>Power_Parity_Rs_425000_545000</th>\n",
       "      <th>Power_Parity_Rs_330000_545000</th>\n",
       "      <th>Power_Parity_Above_Rs_545000</th>\n",
       "      <th>Total_Power_Parity</th>\n",
       "    </tr>\n",
       "  </thead>\n",
       "  <tbody>\n",
       "    <tr>\n",
       "      <th>54</th>\n",
       "      <td>55</td>\n",
       "      <td>CHANDIGARH</td>\n",
       "      <td>Chandigarh</td>\n",
       "      <td>1055450</td>\n",
       "      <td>580663</td>\n",
       "      <td>474787</td>\n",
       "      <td>805438</td>\n",
       "      <td>465346</td>\n",
       "      <td>340092</td>\n",
       "      <td>199086</td>\n",
       "      <td>...</td>\n",
       "      <td>7152</td>\n",
       "      <td>10783</td>\n",
       "      <td>4285</td>\n",
       "      <td>2444</td>\n",
       "      <td>6729</td>\n",
       "      <td>3382</td>\n",
       "      <td>4461</td>\n",
       "      <td>7843</td>\n",
       "      <td>7897</td>\n",
       "      <td>34145</td>\n",
       "    </tr>\n",
       "  </tbody>\n",
       "</table>\n",
       "<p>1 rows × 118 columns</p>\n",
       "</div>"
      ],
      "text/plain": [
       "    District code  State name District name  Population    Male  Female  \\\n",
       "54             55  CHANDIGARH    Chandigarh     1055450  580663  474787   \n",
       "\n",
       "    Literate  Male_Literate  Female_Literate      SC         ...          \\\n",
       "54    805438         465346           340092  199086         ...           \n",
       "\n",
       "    Power_Parity_Rs_90000_150000  Power_Parity_Rs_45000_150000  \\\n",
       "54                          7152                         10783   \n",
       "\n",
       "    Power_Parity_Rs_150000_240000  Power_Parity_Rs_240000_330000  \\\n",
       "54                           4285                           2444   \n",
       "\n",
       "    Power_Parity_Rs_150000_330000  Power_Parity_Rs_330000_425000  \\\n",
       "54                           6729                           3382   \n",
       "\n",
       "    Power_Parity_Rs_425000_545000  Power_Parity_Rs_330000_545000  \\\n",
       "54                           4461                           7843   \n",
       "\n",
       "    Power_Parity_Above_Rs_545000  Total_Power_Parity  \n",
       "54                          7897               34145  \n",
       "\n",
       "[1 rows x 118 columns]"
      ]
     },
     "execution_count": 247,
     "metadata": {},
     "output_type": "execute_result"
    }
   ],
   "source": [
    "data[data['State name']=='CHANDIGARH']"
   ]
  },
  {
   "cell_type": "code",
   "execution_count": 248,
   "metadata": {},
   "outputs": [
    {
     "data": {
      "text/plain": [
       "0.93930997910028424"
      ]
     },
     "execution_count": 248,
     "metadata": {},
     "output_type": "execute_result"
    }
   ],
   "source": [
    "df2['Worker'].corr(df2['Mobile'])"
   ]
  },
  {
   "cell_type": "code",
   "execution_count": 249,
   "metadata": {},
   "outputs": [
    {
     "data": {
      "text/plain": [
       "12"
      ]
     },
     "execution_count": 249,
     "metadata": {},
     "output_type": "execute_result"
    }
   ],
   "source": [
    "df2.shape[0]"
   ]
  },
  {
   "cell_type": "code",
   "execution_count": 250,
   "metadata": {},
   "outputs": [
    {
     "ename": "NameError",
     "evalue": "name 's' is not defined",
     "output_type": "error",
     "traceback": [
      "\u001b[0;31m---------------------------------------------------------------------------\u001b[0m",
      "\u001b[0;31mNameError\u001b[0m                                 Traceback (most recent call last)",
      "\u001b[0;32m<ipython-input-250-ded5ba42480f>\u001b[0m in \u001b[0;36m<module>\u001b[0;34m()\u001b[0m\n\u001b[0;32m----> 1\u001b[0;31m \u001b[0ms\u001b[0m\u001b[0;34m\u001b[0m\u001b[0m\n\u001b[0m",
      "\u001b[0;31mNameError\u001b[0m: name 's' is not defined"
     ]
    }
   ],
   "source": [
    "s"
   ]
  },
  {
   "cell_type": "code",
   "execution_count": null,
   "metadata": {
    "collapsed": true
   },
   "outputs": [],
   "source": []
  },
  {
   "cell_type": "code",
   "execution_count": null,
   "metadata": {},
   "outputs": [],
   "source": [
    "india = gpd.read_file('INDIA.shx')\n",
    "india['corr'] = corr_val\n",
    "india.plot(column = 'corr', figsize=(20,10),cmap='Blues',legend=True)\n",
    "plt.axis('off')\n",
    "plt.title('corr across India')\n",
    "plt.show()"
   ]
  },
  {
   "cell_type": "code",
   "execution_count": null,
   "metadata": {},
   "outputs": [],
   "source": [
    "state_list"
   ]
  },
  {
   "cell_type": "code",
   "execution_count": null,
   "metadata": {},
   "outputs": [],
   "source": [
    "df1 = data[data['State name']=='RAJASTHAN']\n",
    "df = df1[['District name','Agricultural_Workers','Households_with_Telephone_Mobile_Phone_Mobile_only']]\n",
    "df.rename(columns={'Agricultural_Workers':'Worker','Households_with_Telephone_Mobile_Phone_Mobile_only':'Mobile'},inplace=True)\n",
    "df.reset_index(inplace=True)\n",
    "df2 = df.sort_values('Worker',ascending=True)\n",
    "plt.scatter(df2['Worker'],df2['Mobile'])\n",
    "plt.show()"
   ]
  },
  {
   "cell_type": "code",
   "execution_count": null,
   "metadata": {},
   "outputs": [],
   "source": [
    "df1 = data[data['State name']=='KARNATAKA']\n",
    "df = df1[['District name','Agricultural_Workers','Households_with_Telephone_Mobile_Phone_Mobile_only']]\n",
    "df.rename(columns={'Agricultural_Workers':'Worker','Households_with_Telephone_Mobile_Phone_Mobile_only':'Mobile'},inplace=True)\n",
    "df.reset_index(inplace=True)\n",
    "df2 = df.sort_values('Worker',ascending=True)\n",
    "plt.scatter(df2['Worker'],df2['Mobile'])\n",
    "plt.show()"
   ]
  },
  {
   "cell_type": "code",
   "execution_count": null,
   "metadata": {},
   "outputs": [],
   "source": [
    "df2['Worker'].corr(df2['Mobile'])"
   ]
  },
  {
   "cell_type": "code",
   "execution_count": null,
   "metadata": {},
   "outputs": [],
   "source": [
    "state_list = list(data['State name'].unique())\n",
    "corr_val = []\n",
    "i=0\n",
    "for state in state_list : \n",
    "    df1 = data[data['State name']==state]\n",
    "    df = df1[['District name','Agricultural_Workers','Households_with_Telephone_Mobile_Phone_Mobile_only']]\n",
    "    df.rename(columns={'Agricultural_Workers':'Worker','Households_with_Telephone_Mobile_Phone_Mobile_only':'Mobile'},inplace=True)\n",
    "    df.reset_index(inplace=True)\n",
    "    df2 = df.sort_values('Worker',ascending=True)\n",
    "    if df2.shape[0] >1:\n",
    "        corr_val.append(df2['Worker'].corr(df2['Mobile']))\n",
    "    else :\n",
    "        corr_val.append(0.5)\n",
    "    i +=1\n"
   ]
  },
  {
   "cell_type": "code",
   "execution_count": null,
   "metadata": {},
   "outputs": [],
   "source": [
    "india = gpd.read_file('INDIA.shx')\n",
    "india['corr'] = corr_val\n",
    "india.plot(column = 'corr', figsize=(20,10),cmap='Blues',legend=True)\n",
    "plt.axis('off')\n",
    "plt.title('corr across India')\n",
    "plt.show()"
   ]
  },
  {
   "cell_type": "code",
   "execution_count": null,
   "metadata": {},
   "outputs": [],
   "source": [
    "state_list.index('GUJARAT')"
   ]
  },
  {
   "cell_type": "code",
   "execution_count": null,
   "metadata": {},
   "outputs": [],
   "source": [
    "corr_val[23]"
   ]
  },
  {
   "cell_type": "code",
   "execution_count": null,
   "metadata": {},
   "outputs": [],
   "source": [
    "max(corr_val)"
   ]
  },
  {
   "cell_type": "code",
   "execution_count": null,
   "metadata": {},
   "outputs": [],
   "source": [
    "corr_val.index(1)"
   ]
  },
  {
   "cell_type": "code",
   "execution_count": null,
   "metadata": {},
   "outputs": [],
   "source": [
    "state_list[24]"
   ]
  },
  {
   "cell_type": "code",
   "execution_count": null,
   "metadata": {},
   "outputs": [],
   "source": [
    "state_list[0]"
   ]
  },
  {
   "cell_type": "code",
   "execution_count": null,
   "metadata": {},
   "outputs": [],
   "source": [
    "corr_val[0]"
   ]
  },
  {
   "cell_type": "code",
   "execution_count": null,
   "metadata": {},
   "outputs": [],
   "source": [
    "guj_demography = data[data['State name']=='GUJARAT']\n",
    "guj_demography = guj_demography[['District name','Hindus','Muslims','Christians','Sikhs','Buddhists','Jains','Others_Religions','Religion_Not_Stated']]"
   ]
  },
  {
   "cell_type": "code",
   "execution_count": null,
   "metadata": {},
   "outputs": [],
   "source": [
    "guj_demography.head()"
   ]
  },
  {
   "cell_type": "code",
   "execution_count": null,
   "metadata": {
    "collapsed": true
   },
   "outputs": [],
   "source": [
    "guj_demography.rename(columns={'Others_Religions':'Others'},inplace=True)"
   ]
  },
  {
   "cell_type": "code",
   "execution_count": null,
   "metadata": {},
   "outputs": [],
   "source": [
    "guj_demography.head()"
   ]
  },
  {
   "cell_type": "code",
   "execution_count": 251,
   "metadata": {
    "collapsed": true
   },
   "outputs": [],
   "source": [
    "## Loading libraries\n",
    "import pandas as pd    ## for data manipulation\n",
    "import numpy as np     ## for array and matrices operations\n",
    "import bokeh   ## For interactive visualizations\n",
    "import matplotlib.pyplot as plt \n",
    "import os\n",
    "import geopandas as gpd                 # For plotting maps\n",
    "from bokeh.plotting import figure, show  # For interactive visualization\n",
    "from bokeh.io import output_notebook"
   ]
  },
  {
   "cell_type": "code",
   "execution_count": 255,
   "metadata": {},
   "outputs": [],
   "source": [
    "plt.style.use(['ggplot'])\n",
    "plt.rcParams['figure.figsize']=(10,8)"
   ]
  },
  {
   "cell_type": "code",
   "execution_count": 258,
   "metadata": {},
   "outputs": [],
   "source": [
    "india = gpd.read_file('INDIA.shp')"
   ]
  },
  {
   "cell_type": "code",
   "execution_count": 260,
   "metadata": {},
   "outputs": [],
   "source": [
    "india = gpd.read_file('INDIA.shp')"
   ]
  },
  {
   "cell_type": "code",
   "execution_count": 261,
   "metadata": {},
   "outputs": [
    {
     "data": {
      "text/html": [
       "<div>\n",
       "<style scoped>\n",
       "    .dataframe tbody tr th:only-of-type {\n",
       "        vertical-align: middle;\n",
       "    }\n",
       "\n",
       "    .dataframe tbody tr th {\n",
       "        vertical-align: top;\n",
       "    }\n",
       "\n",
       "    .dataframe thead th {\n",
       "        text-align: right;\n",
       "    }\n",
       "</style>\n",
       "<table border=\"1\" class=\"dataframe\">\n",
       "  <thead>\n",
       "    <tr style=\"text-align: right;\">\n",
       "      <th></th>\n",
       "      <th>geometry</th>\n",
       "    </tr>\n",
       "  </thead>\n",
       "  <tbody>\n",
       "    <tr>\n",
       "      <th>0</th>\n",
       "      <td>(POLYGON ((92.898888 12.915831, 92.89917 12.91...</td>\n",
       "    </tr>\n",
       "    <tr>\n",
       "      <th>1</th>\n",
       "      <td>POLYGON ((83.943192 18.214308, 83.942359999999...</td>\n",
       "    </tr>\n",
       "    <tr>\n",
       "      <th>2</th>\n",
       "      <td>POLYGON ((94.86086299999999 27.739479, 94.8660...</td>\n",
       "    </tr>\n",
       "    <tr>\n",
       "      <th>3</th>\n",
       "      <td>POLYGON ((95.59916699999999 27.22961, 95.59008...</td>\n",
       "    </tr>\n",
       "    <tr>\n",
       "      <th>4</th>\n",
       "      <td>POLYGON ((87.955612 25.53805, 87.952393 25.536...</td>\n",
       "    </tr>\n",
       "  </tbody>\n",
       "</table>\n",
       "</div>"
      ],
      "text/plain": [
       "                                            geometry\n",
       "0  (POLYGON ((92.898888 12.915831, 92.89917 12.91...\n",
       "1  POLYGON ((83.943192 18.214308, 83.942359999999...\n",
       "2  POLYGON ((94.86086299999999 27.739479, 94.8660...\n",
       "3  POLYGON ((95.59916699999999 27.22961, 95.59008...\n",
       "4  POLYGON ((87.955612 25.53805, 87.952393 25.536..."
      ]
     },
     "execution_count": 261,
     "metadata": {},
     "output_type": "execute_result"
    }
   ],
   "source": [
    "india.head()"
   ]
  },
  {
   "cell_type": "code",
   "execution_count": 262,
   "metadata": {},
   "outputs": [
    {
     "data": {
      "text/plain": [
       "geometry    (POLYGON ((92.898888 12.915831, 92.89917 12.91...\n",
       "Name: 0, dtype: object"
      ]
     },
     "execution_count": 262,
     "metadata": {},
     "output_type": "execute_result"
    }
   ],
   "source": [
    "india.iloc[0]"
   ]
  },
  {
   "cell_type": "code",
   "execution_count": 263,
   "metadata": {},
   "outputs": [
    {
     "data": {
      "text/plain": [
       "[<shapely.geometry.multipolygon.MultiPolygon at 0x7f180b448ef0>]"
      ]
     },
     "execution_count": 263,
     "metadata": {},
     "output_type": "execute_result"
    }
   ],
   "source": [
    "list(india.iloc[0])"
   ]
  },
  {
   "cell_type": "code",
   "execution_count": 264,
   "metadata": {
    "collapsed": true
   },
   "outputs": [],
   "source": [
    "from shapely.geometry import shape"
   ]
  },
  {
   "cell_type": "code",
   "execution_count": 268,
   "metadata": {},
   "outputs": [],
   "source": [
    "dist=gpd.read_file('Dist.shx')"
   ]
  },
  {
   "cell_type": "code",
   "execution_count": 274,
   "metadata": {},
   "outputs": [
    {
     "data": {
      "image/png": "[encoded data removed]",
      "text/plain": [
       "<matplotlib.figure.Figure at 0x7f180b435e48>"
      ]
     },
     "metadata": {},
     "output_type": "display_data"
    }
   ],
   "source": [
    "lit_pop = data.groupby('State name')['Literate'].agg('sum')\n",
    "tot_pop = data.groupby('State name')['Population'].agg('sum')\n",
    "lit_rate = (lit_pop/tot_pop)*100\n",
    "dist=gpd.read_file('Dist.shx')\n",
    "dist['lit_rate'] = [i+1 for i in range(594)]\n",
    "dist.plot(column = 'lit_rate', figsize=(20,10),cmap='OrRd',legend=True)\n",
    "plt.axis('off')\n",
    "plt.title('Literacy rate across India')\n",
    "plt.show()"
   ]
  },
  {
   "cell_type": "code",
   "execution_count": 272,
   "metadata": {},
   "outputs": [
    {
     "data": {
      "text/plain": [
       "35"
      ]
     },
     "execution_count": 272,
     "metadata": {},
     "output_type": "execute_result"
    }
   ],
   "source": [
    "lit_rate.count()"
   ]
  },
  {
   "cell_type": "code",
   "execution_count": 275,
   "metadata": {},
   "outputs": [
    {
     "data": {
      "text/html": [
       "<div>\n",
       "<style scoped>\n",
       "    .dataframe tbody tr th:only-of-type {\n",
       "        vertical-align: middle;\n",
       "    }\n",
       "\n",
       "    .dataframe tbody tr th {\n",
       "        vertical-align: top;\n",
       "    }\n",
       "\n",
       "    .dataframe thead th {\n",
       "        text-align: right;\n",
       "    }\n",
       "</style>\n",
       "<table border=\"1\" class=\"dataframe\">\n",
       "  <thead>\n",
       "    <tr style=\"text-align: right;\">\n",
       "      <th></th>\n",
       "      <th>geometry</th>\n",
       "      <th>lit_rate</th>\n",
       "    </tr>\n",
       "  </thead>\n",
       "  <tbody>\n",
       "    <tr>\n",
       "      <th>0</th>\n",
       "      <td>(POLYGON ((72.62987258356495 22.81813646338519...</td>\n",
       "      <td>1</td>\n",
       "    </tr>\n",
       "    <tr>\n",
       "      <th>1</th>\n",
       "      <td>POLYGON ((78.14427129024574 14.94529955591942,...</td>\n",
       "      <td>2</td>\n",
       "    </tr>\n",
       "    <tr>\n",
       "      <th>2</th>\n",
       "      <td>POLYGON ((75.63101893959558 34.22268149767631,...</td>\n",
       "      <td>3</td>\n",
       "    </tr>\n",
       "    <tr>\n",
       "      <th>3</th>\n",
       "      <td>POLYGON ((85.39504188800268 21.18470633014217,...</td>\n",
       "      <td>4</td>\n",
       "    </tr>\n",
       "    <tr>\n",
       "      <th>4</th>\n",
       "      <td>POLYGON ((87.64833726061904 26.39292598478003,...</td>\n",
       "      <td>5</td>\n",
       "    </tr>\n",
       "  </tbody>\n",
       "</table>\n",
       "</div>"
      ],
      "text/plain": [
       "                                            geometry  lit_rate\n",
       "0  (POLYGON ((72.62987258356495 22.81813646338519...         1\n",
       "1  POLYGON ((78.14427129024574 14.94529955591942,...         2\n",
       "2  POLYGON ((75.63101893959558 34.22268149767631,...         3\n",
       "3  POLYGON ((85.39504188800268 21.18470633014217,...         4\n",
       "4  POLYGON ((87.64833726061904 26.39292598478003,...         5"
      ]
     },
     "execution_count": 275,
     "metadata": {},
     "output_type": "execute_result"
    }
   ],
   "source": [
    "dist.head()"
   ]
  },
  {
   "cell_type": "code",
   "execution_count": 278,
   "metadata": {},
   "outputs": [
    {
     "ename": "ModuleNotFoundError",
     "evalue": "No module named 'mpl_toolkits.basemap'",
     "output_type": "error",
     "traceback": [
      "\u001b[0;31m---------------------------------------------------------------------------\u001b[0m",
      "\u001b[0;31mModuleNotFoundError\u001b[0m                       Traceback (most recent call last)",
      "\u001b[0;32m<ipython-input-278-d9467465a3b6>\u001b[0m in \u001b[0;36m<module>\u001b[0;34m()\u001b[0m\n\u001b[0;32m----> 1\u001b[0;31m \u001b[0;32mfrom\u001b[0m \u001b[0mmpl_toolkits\u001b[0m\u001b[0;34m.\u001b[0m\u001b[0mbasemap\u001b[0m \u001b[0;32mimport\u001b[0m \u001b[0mBasemap\u001b[0m\u001b[0;34m\u001b[0m\u001b[0m\n\u001b[0m",
      "\u001b[0;31mModuleNotFoundError\u001b[0m: No module named 'mpl_toolkits.basemap'"
     ]
    }
   ],
   "source": [
    "from mpl_toolkits.basemap import Basemap"
   ]
  },
  {
   "cell_type": "code",
   "execution_count": null,
   "metadata": {
    "collapsed": true
   },
   "outputs": [],
   "source": []
  }
 ],
 "metadata": {
  "kernelspec": {
   "display_name": "Python [conda env:geopandas]",
   "language": "python",
   "name": "conda-env-geopandas-py"
  },
  "language_info": {
   "codemirror_mode": {
    "name": "ipython",
    "version": 3
   },
   "file_extension": ".py",
   "mimetype": "text/x-python",
   "name": "python",
   "nbconvert_exporter": "python",
   "pygments_lexer": "ipython3",
   "version": "3.6.3"
  }
 },
 "nbformat": 4,
 "nbformat_minor": 2
}
